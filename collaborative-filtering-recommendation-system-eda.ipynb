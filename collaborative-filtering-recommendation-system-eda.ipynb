{
 "cells": [
  {
   "cell_type": "markdown",
   "id": "c5e126a1",
   "metadata": {
    "button": false,
    "new_sheet": false,
    "papermill": {
     "duration": 0.024286,
     "end_time": "2023-07-10T16:28:03.375957",
     "exception": false,
     "start_time": "2023-07-10T16:28:03.351671",
     "status": "completed"
    },
    "run_control": {
     "read_only": false
    },
    "tags": []
   },
   "source": [
    "# Create recommendation system based on collaborative filtering\n"
   ]
  },
  {
   "cell_type": "markdown",
   "id": "281d8ce0",
   "metadata": {
    "button": false,
    "new_sheet": false,
    "papermill": {
     "duration": 0.022652,
     "end_time": "2023-07-10T16:28:03.422019",
     "exception": false,
     "start_time": "2023-07-10T16:28:03.399367",
     "status": "completed"
    },
    "run_control": {
     "read_only": false
    },
    "tags": []
   },
   "source": [
    "### Recommendation systems are a collection of algorithms used to recommend items to users based on information taken from the user. These systems have become ubiquitous and can be commonly seen in online stores, movies databases and job finders. In this notebook, we will explore recommendation systems based on Collaborative Filtering and implement simple version of one using Python and the Pandas library."
   ]
  },
  {
   "cell_type": "markdown",
   "id": "4c368569",
   "metadata": {
    "papermill": {
     "duration": 0.023263,
     "end_time": "2023-07-10T16:28:03.468389",
     "exception": false,
     "start_time": "2023-07-10T16:28:03.445126",
     "status": "completed"
    },
    "tags": []
   },
   "source": [
    "![https://th.bing.com/th/id/OIP.E6O_dZOmZhTIJQDYZbJowQHaEK?w=294&h=180&c=7&r=0&o=5&dpr=1.3&pid=1.7](https://th.bing.com/th/id/OIP.E6O_dZOmZhTIJQDYZbJowQHaEK?w=294&h=180&c=7&r=0&o=5&dpr=1.3&pid=1.7)"
   ]
  },
  {
   "cell_type": "markdown",
   "id": "fec9a350",
   "metadata": {
    "button": false,
    "new_sheet": false,
    "papermill": {
     "duration": 0.023874,
     "end_time": "2023-07-10T16:28:03.515283",
     "exception": false,
     "start_time": "2023-07-10T16:28:03.491409",
     "status": "completed"
    },
    "run_control": {
     "read_only": false
    },
    "tags": []
   },
   "source": [
    "<h1>Table of contents</h1>\n",
    "\n",
    "<div class=\"alert alert-block alert-info\" style=\"margin-top: 20px\">\n",
    "    <ol>\n",
    "        <li><a href=\"#ref1\">Acquiring the Data</a></li>\n",
    "        <li><a href=\"#ref2\">Importing Libraries</a></li>\n",
    "        <li><a href=\"#ref2\">Preprocessing</a></li>\n",
    "        <li><a href=\"#ref2\">EDA</a></li>\n",
    "        <li><a href=\"#ref3\">Collaborative Filtering</a></li>\n",
    "    </ol>\n",
    "</div>\n",
    "<br>\n",
    "<hr>"
   ]
  },
  {
   "cell_type": "markdown",
   "id": "19ec1e40",
   "metadata": {
    "button": false,
    "new_sheet": false,
    "papermill": {
     "duration": 0.023856,
     "end_time": "2023-07-10T16:28:03.563809",
     "exception": false,
     "start_time": "2023-07-10T16:28:03.539953",
     "status": "completed"
    },
    "run_control": {
     "read_only": false
    },
    "tags": []
   },
   "source": [
    "# Acquiring the Data"
   ]
  },
  {
   "cell_type": "markdown",
   "id": "9b3116ff",
   "metadata": {
    "button": false,
    "new_sheet": false,
    "papermill": {
     "duration": 0.023211,
     "end_time": "2023-07-10T16:28:03.610033",
     "exception": false,
     "start_time": "2023-07-10T16:28:03.586822",
     "status": "completed"
    },
    "run_control": {
     "read_only": false
    },
    "tags": []
   },
   "source": [
    "### To acquire and extract the data, simply follow these steps:  \n",
    "### Go to [GroupLens](http://grouplens.org/datasets/movielens/?utm_medium=Exinfluencer&utm_source=Exinfluencer&utm_content=000026UJ&utm_term=10006555&utm_id=NA-SkillsNetwork-Channel-SkillsNetworkCoursesIBMDeveloperSkillsNetworkML0101ENSkillsNetwork1047-2022-01-01). There you will find all the required datasets related to Movies. Then download the required dataset.\n",
    "### Or \n",
    "### The dataset is available in kaggle too, go to [Kaggle](https://www.kaggle.com/datasets/gargmanas/movierecommenderdataset)\n",
    "### __Did you know?__ When it comes to Machine Learning, you will likely be working with large datasets.\n"
   ]
  },
  {
   "cell_type": "markdown",
   "id": "4eb3e4c8",
   "metadata": {
    "button": false,
    "new_sheet": false,
    "papermill": {
     "duration": 0.022638,
     "end_time": "2023-07-10T16:28:03.655723",
     "exception": false,
     "start_time": "2023-07-10T16:28:03.633085",
     "status": "completed"
    },
    "run_control": {
     "read_only": false
    },
    "tags": []
   },
   "source": [
    "### Now you're ready to start working with the data!"
   ]
  },
  {
   "cell_type": "markdown",
   "id": "8dafd4bb",
   "metadata": {
    "papermill": {
     "duration": 0.023063,
     "end_time": "2023-07-10T16:28:03.701906",
     "exception": false,
     "start_time": "2023-07-10T16:28:03.678843",
     "status": "completed"
    },
    "tags": []
   },
   "source": [
    "# Importing Libraries"
   ]
  },
  {
   "cell_type": "code",
   "execution_count": 1,
   "id": "67750aa1",
   "metadata": {
    "button": false,
    "execution": {
     "iopub.execute_input": "2023-07-10T16:28:03.749566Z",
     "iopub.status.busy": "2023-07-10T16:28:03.749107Z",
     "iopub.status.idle": "2023-07-10T16:28:05.273090Z",
     "shell.execute_reply": "2023-07-10T16:28:05.272068Z"
    },
    "new_sheet": false,
    "papermill": {
     "duration": 1.551283,
     "end_time": "2023-07-10T16:28:05.276115",
     "exception": false,
     "start_time": "2023-07-10T16:28:03.724832",
     "status": "completed"
    },
    "run_control": {
     "read_only": false
    },
    "tags": []
   },
   "outputs": [],
   "source": [
    "#Dataframe manipulation library\n",
    "import pandas as pd\n",
    "#Math functions, we'll only need the sqrt function so let's import only that\n",
    "from math import sqrt\n",
    "import numpy as np\n",
    "import matplotlib.pyplot as plt\n",
    "import seaborn as sns\n",
    "%matplotlib inline"
   ]
  },
  {
   "cell_type": "markdown",
   "id": "b7e9b1b6",
   "metadata": {
    "button": false,
    "new_sheet": false,
    "papermill": {
     "duration": 0.022432,
     "end_time": "2023-07-10T16:28:05.321789",
     "exception": false,
     "start_time": "2023-07-10T16:28:05.299357",
     "status": "completed"
    },
    "run_control": {
     "read_only": false
    },
    "tags": []
   },
   "source": [
    "# Preprocessing"
   ]
  },
  {
   "cell_type": "markdown",
   "id": "2d059e2b",
   "metadata": {
    "button": false,
    "new_sheet": false,
    "papermill": {
     "duration": 0.022617,
     "end_time": "2023-07-10T16:28:05.367442",
     "exception": false,
     "start_time": "2023-07-10T16:28:05.344825",
     "status": "completed"
    },
    "run_control": {
     "read_only": false
    },
    "tags": []
   },
   "source": [
    "### Now let's read each file into their Dataframes:\n"
   ]
  },
  {
   "cell_type": "code",
   "execution_count": 2,
   "id": "da1b7e1b",
   "metadata": {
    "button": false,
    "execution": {
     "iopub.execute_input": "2023-07-10T16:28:05.414913Z",
     "iopub.status.busy": "2023-07-10T16:28:05.414529Z",
     "iopub.status.idle": "2023-07-10T16:28:05.589921Z",
     "shell.execute_reply": "2023-07-10T16:28:05.588476Z"
    },
    "new_sheet": false,
    "papermill": {
     "duration": 0.202485,
     "end_time": "2023-07-10T16:28:05.592774",
     "exception": false,
     "start_time": "2023-07-10T16:28:05.390289",
     "status": "completed"
    },
    "run_control": {
     "read_only": false
    },
    "tags": []
   },
   "outputs": [],
   "source": [
    "#Storing the movie information into a pandas dataframe\n",
    "movies_df = pd.read_csv('/kaggle/input/movierecommenderdataset/movies.csv')\n",
    "#Storing the user information into a pandas dataframe\n",
    "ratings_df = pd.read_csv('/kaggle/input/movierecommenderdataset/ratings.csv')"
   ]
  },
  {
   "cell_type": "markdown",
   "id": "4100409e",
   "metadata": {
    "button": false,
    "new_sheet": false,
    "papermill": {
     "duration": 0.022566,
     "end_time": "2023-07-10T16:28:05.638698",
     "exception": false,
     "start_time": "2023-07-10T16:28:05.616132",
     "status": "completed"
    },
    "run_control": {
     "read_only": false
    },
    "tags": []
   },
   "source": [
    "### Let's also take a peek at how each of them are organized:\n"
   ]
  },
  {
   "cell_type": "code",
   "execution_count": 3,
   "id": "3ea6ee36",
   "metadata": {
    "button": false,
    "execution": {
     "iopub.execute_input": "2023-07-10T16:28:05.686887Z",
     "iopub.status.busy": "2023-07-10T16:28:05.686423Z",
     "iopub.status.idle": "2023-07-10T16:28:05.715873Z",
     "shell.execute_reply": "2023-07-10T16:28:05.714752Z"
    },
    "new_sheet": false,
    "papermill": {
     "duration": 0.056782,
     "end_time": "2023-07-10T16:28:05.718615",
     "exception": false,
     "start_time": "2023-07-10T16:28:05.661833",
     "status": "completed"
    },
    "run_control": {
     "read_only": false
    },
    "tags": []
   },
   "outputs": [
    {
     "data": {
      "text/html": [
       "<div>\n",
       "<style scoped>\n",
       "    .dataframe tbody tr th:only-of-type {\n",
       "        vertical-align: middle;\n",
       "    }\n",
       "\n",
       "    .dataframe tbody tr th {\n",
       "        vertical-align: top;\n",
       "    }\n",
       "\n",
       "    .dataframe thead th {\n",
       "        text-align: right;\n",
       "    }\n",
       "</style>\n",
       "<table border=\"1\" class=\"dataframe\">\n",
       "  <thead>\n",
       "    <tr style=\"text-align: right;\">\n",
       "      <th></th>\n",
       "      <th>movieId</th>\n",
       "      <th>title</th>\n",
       "      <th>genres</th>\n",
       "    </tr>\n",
       "  </thead>\n",
       "  <tbody>\n",
       "    <tr>\n",
       "      <th>0</th>\n",
       "      <td>1</td>\n",
       "      <td>Toy Story (1995)</td>\n",
       "      <td>Adventure|Animation|Children|Comedy|Fantasy</td>\n",
       "    </tr>\n",
       "    <tr>\n",
       "      <th>1</th>\n",
       "      <td>2</td>\n",
       "      <td>Jumanji (1995)</td>\n",
       "      <td>Adventure|Children|Fantasy</td>\n",
       "    </tr>\n",
       "    <tr>\n",
       "      <th>2</th>\n",
       "      <td>3</td>\n",
       "      <td>Grumpier Old Men (1995)</td>\n",
       "      <td>Comedy|Romance</td>\n",
       "    </tr>\n",
       "    <tr>\n",
       "      <th>3</th>\n",
       "      <td>4</td>\n",
       "      <td>Waiting to Exhale (1995)</td>\n",
       "      <td>Comedy|Drama|Romance</td>\n",
       "    </tr>\n",
       "    <tr>\n",
       "      <th>4</th>\n",
       "      <td>5</td>\n",
       "      <td>Father of the Bride Part II (1995)</td>\n",
       "      <td>Comedy</td>\n",
       "    </tr>\n",
       "  </tbody>\n",
       "</table>\n",
       "</div>"
      ],
      "text/plain": [
       "   movieId                               title  \\\n",
       "0        1                    Toy Story (1995)   \n",
       "1        2                      Jumanji (1995)   \n",
       "2        3             Grumpier Old Men (1995)   \n",
       "3        4            Waiting to Exhale (1995)   \n",
       "4        5  Father of the Bride Part II (1995)   \n",
       "\n",
       "                                        genres  \n",
       "0  Adventure|Animation|Children|Comedy|Fantasy  \n",
       "1                   Adventure|Children|Fantasy  \n",
       "2                               Comedy|Romance  \n",
       "3                         Comedy|Drama|Romance  \n",
       "4                                       Comedy  "
      ]
     },
     "execution_count": 3,
     "metadata": {},
     "output_type": "execute_result"
    }
   ],
   "source": [
    "#Head is a function that gets the first N rows of a dataframe. N's default is 5.\n",
    "movies_df.head()"
   ]
  },
  {
   "cell_type": "markdown",
   "id": "6bd2b0c7",
   "metadata": {
    "button": false,
    "new_sheet": false,
    "papermill": {
     "duration": 0.023439,
     "end_time": "2023-07-10T16:28:05.766223",
     "exception": false,
     "start_time": "2023-07-10T16:28:05.742784",
     "status": "completed"
    },
    "run_control": {
     "read_only": false
    },
    "tags": []
   },
   "source": [
    "### So each movie has a unique ID, a title with its release year along with it (Which may contain unicode characters) and several different genres in the same field. Let's remove the year from the title column and place it into its own one by using the handy [extract](http://pandas.pydata.org/pandas-docs/stable/generated/pandas.Series.str.extract.html?utm_medium=Exinfluencer&utm_source=Exinfluencer&utm_content=000026UJ&utm_term=10006555&utm_id=NA-SkillsNetwork-Channel-SkillsNetworkCoursesIBMDeveloperSkillsNetworkML0101ENSkillsNetwork1047-2022-01-01#pandas.Series.str.extract) function that Pandas has.\n"
   ]
  },
  {
   "cell_type": "markdown",
   "id": "4f97d3fc",
   "metadata": {
    "button": false,
    "new_sheet": false,
    "papermill": {
     "duration": 0.023135,
     "end_time": "2023-07-10T16:28:05.812992",
     "exception": false,
     "start_time": "2023-07-10T16:28:05.789857",
     "status": "completed"
    },
    "run_control": {
     "read_only": false
    },
    "tags": []
   },
   "source": [
    "### Let's remove the year from the __title__ column by using pandas' replace function and store it in a new __year__ column.\n"
   ]
  },
  {
   "cell_type": "code",
   "execution_count": 4,
   "id": "64b663cb",
   "metadata": {
    "button": false,
    "execution": {
     "iopub.execute_input": "2023-07-10T16:28:05.862814Z",
     "iopub.status.busy": "2023-07-10T16:28:05.862436Z",
     "iopub.status.idle": "2023-07-10T16:28:05.921953Z",
     "shell.execute_reply": "2023-07-10T16:28:05.920372Z"
    },
    "new_sheet": false,
    "papermill": {
     "duration": 0.087108,
     "end_time": "2023-07-10T16:28:05.924538",
     "exception": false,
     "start_time": "2023-07-10T16:28:05.837430",
     "status": "completed"
    },
    "run_control": {
     "read_only": false
    },
    "tags": []
   },
   "outputs": [
    {
     "name": "stderr",
     "output_type": "stream",
     "text": [
      "/tmp/ipykernel_20/3803565386.py:10: FutureWarning: The default value of regex will change from True to False in a future version.\n",
      "  movies_df['title'] = movies_df.title.str.replace('(\\(\\d\\d\\d\\d\\))', '')\n"
     ]
    }
   ],
   "source": [
    "#Using regular expressions to find a year stored between parentheses\n",
    "\n",
    "#We specify the parantheses so we don't conflict with movies that have years in their titles\n",
    "movies_df['year'] = movies_df.title.str.extract('(\\(\\d\\d\\d\\d\\))',expand=False)\n",
    "\n",
    "#Removing the parentheses\n",
    "movies_df['year'] = movies_df.year.str.extract('(\\d\\d\\d\\d)',expand=False)\n",
    "\n",
    "#Removing the years from the 'title' column\n",
    "movies_df['title'] = movies_df.title.str.replace('(\\(\\d\\d\\d\\d\\))', '')\n",
    "\n",
    "#Applying the strip function to get rid of any ending whitespace characters that may have appeared\n",
    "movies_df['title'] = movies_df['title'].apply(lambda x: x.strip())"
   ]
  },
  {
   "cell_type": "markdown",
   "id": "11b9f14f",
   "metadata": {
    "button": false,
    "new_sheet": false,
    "papermill": {
     "duration": 0.02445,
     "end_time": "2023-07-10T16:28:05.972577",
     "exception": false,
     "start_time": "2023-07-10T16:28:05.948127",
     "status": "completed"
    },
    "run_control": {
     "read_only": false
    },
    "tags": []
   },
   "source": [
    "### Let's look at the result!\n"
   ]
  },
  {
   "cell_type": "code",
   "execution_count": 5,
   "id": "4f514002",
   "metadata": {
    "button": false,
    "execution": {
     "iopub.execute_input": "2023-07-10T16:28:06.021372Z",
     "iopub.status.busy": "2023-07-10T16:28:06.020954Z",
     "iopub.status.idle": "2023-07-10T16:28:06.033274Z",
     "shell.execute_reply": "2023-07-10T16:28:06.032004Z"
    },
    "new_sheet": false,
    "papermill": {
     "duration": 0.039536,
     "end_time": "2023-07-10T16:28:06.035644",
     "exception": false,
     "start_time": "2023-07-10T16:28:05.996108",
     "status": "completed"
    },
    "run_control": {
     "read_only": false
    },
    "tags": []
   },
   "outputs": [
    {
     "data": {
      "text/html": [
       "<div>\n",
       "<style scoped>\n",
       "    .dataframe tbody tr th:only-of-type {\n",
       "        vertical-align: middle;\n",
       "    }\n",
       "\n",
       "    .dataframe tbody tr th {\n",
       "        vertical-align: top;\n",
       "    }\n",
       "\n",
       "    .dataframe thead th {\n",
       "        text-align: right;\n",
       "    }\n",
       "</style>\n",
       "<table border=\"1\" class=\"dataframe\">\n",
       "  <thead>\n",
       "    <tr style=\"text-align: right;\">\n",
       "      <th></th>\n",
       "      <th>movieId</th>\n",
       "      <th>title</th>\n",
       "      <th>genres</th>\n",
       "      <th>year</th>\n",
       "    </tr>\n",
       "  </thead>\n",
       "  <tbody>\n",
       "    <tr>\n",
       "      <th>0</th>\n",
       "      <td>1</td>\n",
       "      <td>Toy Story</td>\n",
       "      <td>Adventure|Animation|Children|Comedy|Fantasy</td>\n",
       "      <td>1995</td>\n",
       "    </tr>\n",
       "    <tr>\n",
       "      <th>1</th>\n",
       "      <td>2</td>\n",
       "      <td>Jumanji</td>\n",
       "      <td>Adventure|Children|Fantasy</td>\n",
       "      <td>1995</td>\n",
       "    </tr>\n",
       "    <tr>\n",
       "      <th>2</th>\n",
       "      <td>3</td>\n",
       "      <td>Grumpier Old Men</td>\n",
       "      <td>Comedy|Romance</td>\n",
       "      <td>1995</td>\n",
       "    </tr>\n",
       "    <tr>\n",
       "      <th>3</th>\n",
       "      <td>4</td>\n",
       "      <td>Waiting to Exhale</td>\n",
       "      <td>Comedy|Drama|Romance</td>\n",
       "      <td>1995</td>\n",
       "    </tr>\n",
       "    <tr>\n",
       "      <th>4</th>\n",
       "      <td>5</td>\n",
       "      <td>Father of the Bride Part II</td>\n",
       "      <td>Comedy</td>\n",
       "      <td>1995</td>\n",
       "    </tr>\n",
       "  </tbody>\n",
       "</table>\n",
       "</div>"
      ],
      "text/plain": [
       "   movieId                        title  \\\n",
       "0        1                    Toy Story   \n",
       "1        2                      Jumanji   \n",
       "2        3             Grumpier Old Men   \n",
       "3        4            Waiting to Exhale   \n",
       "4        5  Father of the Bride Part II   \n",
       "\n",
       "                                        genres  year  \n",
       "0  Adventure|Animation|Children|Comedy|Fantasy  1995  \n",
       "1                   Adventure|Children|Fantasy  1995  \n",
       "2                               Comedy|Romance  1995  \n",
       "3                         Comedy|Drama|Romance  1995  \n",
       "4                                       Comedy  1995  "
      ]
     },
     "execution_count": 5,
     "metadata": {},
     "output_type": "execute_result"
    }
   ],
   "source": [
    "movies_df.head()"
   ]
  },
  {
   "cell_type": "markdown",
   "id": "1140eb34",
   "metadata": {
    "button": false,
    "new_sheet": false,
    "papermill": {
     "duration": 0.024185,
     "end_time": "2023-07-10T16:28:06.084518",
     "exception": false,
     "start_time": "2023-07-10T16:28:06.060333",
     "status": "completed"
    },
    "run_control": {
     "read_only": false
    },
    "tags": []
   },
   "source": [
    "### Here's the final movies dataframe:\n"
   ]
  },
  {
   "cell_type": "markdown",
   "id": "6df9fc33",
   "metadata": {
    "button": false,
    "new_sheet": false,
    "papermill": {
     "duration": 0.023592,
     "end_time": "2023-07-10T16:28:06.132144",
     "exception": false,
     "start_time": "2023-07-10T16:28:06.108552",
     "status": "completed"
    },
    "run_control": {
     "read_only": false
    },
    "tags": []
   },
   "source": [
    "### Next, let's look at the ratings dataframe.\n"
   ]
  },
  {
   "cell_type": "code",
   "execution_count": 6,
   "id": "49c67f30",
   "metadata": {
    "button": false,
    "execution": {
     "iopub.execute_input": "2023-07-10T16:28:06.181993Z",
     "iopub.status.busy": "2023-07-10T16:28:06.180944Z",
     "iopub.status.idle": "2023-07-10T16:28:06.193238Z",
     "shell.execute_reply": "2023-07-10T16:28:06.192193Z"
    },
    "new_sheet": false,
    "papermill": {
     "duration": 0.039705,
     "end_time": "2023-07-10T16:28:06.195604",
     "exception": false,
     "start_time": "2023-07-10T16:28:06.155899",
     "status": "completed"
    },
    "run_control": {
     "read_only": false
    },
    "tags": []
   },
   "outputs": [
    {
     "data": {
      "text/html": [
       "<div>\n",
       "<style scoped>\n",
       "    .dataframe tbody tr th:only-of-type {\n",
       "        vertical-align: middle;\n",
       "    }\n",
       "\n",
       "    .dataframe tbody tr th {\n",
       "        vertical-align: top;\n",
       "    }\n",
       "\n",
       "    .dataframe thead th {\n",
       "        text-align: right;\n",
       "    }\n",
       "</style>\n",
       "<table border=\"1\" class=\"dataframe\">\n",
       "  <thead>\n",
       "    <tr style=\"text-align: right;\">\n",
       "      <th></th>\n",
       "      <th>userId</th>\n",
       "      <th>movieId</th>\n",
       "      <th>rating</th>\n",
       "      <th>timestamp</th>\n",
       "    </tr>\n",
       "  </thead>\n",
       "  <tbody>\n",
       "    <tr>\n",
       "      <th>0</th>\n",
       "      <td>1</td>\n",
       "      <td>1</td>\n",
       "      <td>4.0</td>\n",
       "      <td>964982703</td>\n",
       "    </tr>\n",
       "    <tr>\n",
       "      <th>1</th>\n",
       "      <td>1</td>\n",
       "      <td>3</td>\n",
       "      <td>4.0</td>\n",
       "      <td>964981247</td>\n",
       "    </tr>\n",
       "    <tr>\n",
       "      <th>2</th>\n",
       "      <td>1</td>\n",
       "      <td>6</td>\n",
       "      <td>4.0</td>\n",
       "      <td>964982224</td>\n",
       "    </tr>\n",
       "    <tr>\n",
       "      <th>3</th>\n",
       "      <td>1</td>\n",
       "      <td>47</td>\n",
       "      <td>5.0</td>\n",
       "      <td>964983815</td>\n",
       "    </tr>\n",
       "    <tr>\n",
       "      <th>4</th>\n",
       "      <td>1</td>\n",
       "      <td>50</td>\n",
       "      <td>5.0</td>\n",
       "      <td>964982931</td>\n",
       "    </tr>\n",
       "  </tbody>\n",
       "</table>\n",
       "</div>"
      ],
      "text/plain": [
       "   userId  movieId  rating  timestamp\n",
       "0       1        1     4.0  964982703\n",
       "1       1        3     4.0  964981247\n",
       "2       1        6     4.0  964982224\n",
       "3       1       47     5.0  964983815\n",
       "4       1       50     5.0  964982931"
      ]
     },
     "execution_count": 6,
     "metadata": {},
     "output_type": "execute_result"
    }
   ],
   "source": [
    "ratings_df.head()"
   ]
  },
  {
   "cell_type": "markdown",
   "id": "504cac18",
   "metadata": {
    "button": false,
    "new_sheet": false,
    "papermill": {
     "duration": 0.024117,
     "end_time": "2023-07-10T16:28:06.243727",
     "exception": false,
     "start_time": "2023-07-10T16:28:06.219610",
     "status": "completed"
    },
    "run_control": {
     "read_only": false
    },
    "tags": []
   },
   "source": [
    "### Every row in the ratings dataframe has a user id associated with at least one movie, a rating and a timestamp showing when they reviewed it.\n"
   ]
  },
  {
   "cell_type": "markdown",
   "id": "f71d8847",
   "metadata": {
    "papermill": {
     "duration": 0.023586,
     "end_time": "2023-07-10T16:28:06.291680",
     "exception": false,
     "start_time": "2023-07-10T16:28:06.268094",
     "status": "completed"
    },
    "tags": []
   },
   "source": [
    "# EDA"
   ]
  },
  {
   "cell_type": "markdown",
   "id": "92d838ba",
   "metadata": {
    "papermill": {
     "duration": 0.023519,
     "end_time": "2023-07-10T16:28:06.339232",
     "exception": false,
     "start_time": "2023-07-10T16:28:06.315713",
     "status": "completed"
    },
    "tags": []
   },
   "source": [
    "# How many movies were released each year"
   ]
  },
  {
   "cell_type": "code",
   "execution_count": 7,
   "id": "16b69ab0",
   "metadata": {
    "execution": {
     "iopub.execute_input": "2023-07-10T16:28:06.388936Z",
     "iopub.status.busy": "2023-07-10T16:28:06.388554Z",
     "iopub.status.idle": "2023-07-10T16:28:07.457159Z",
     "shell.execute_reply": "2023-07-10T16:28:07.455883Z"
    },
    "papermill": {
     "duration": 1.096701,
     "end_time": "2023-07-10T16:28:07.459745",
     "exception": false,
     "start_time": "2023-07-10T16:28:06.363044",
     "status": "completed"
    },
    "tags": []
   },
   "outputs": [
    {
     "data": {
      "image/png": "[encoded data removed]",
      "text/plain": [
       "<Figure size 1000x600 with 1 Axes>"
      ]
     },
     "metadata": {},
     "output_type": "display_data"
    }
   ],
   "source": [
    "# Group movies by year and count the number of movies\n",
    "movie_counts = movies_df['year'].value_counts().sort_index()\n",
    "\n",
    "# Plotting the number of movies released each year\n",
    "plt.figure(figsize=(10, 6))\n",
    "plt.bar(movie_counts.index, movie_counts.values)\n",
    "plt.xlabel('Year')\n",
    "plt.ylabel('Number of Movies')\n",
    "plt.title('Number of Movies Released Each Year')\n",
    "plt.show()"
   ]
  },
  {
   "cell_type": "markdown",
   "id": "73719e47",
   "metadata": {
    "papermill": {
     "duration": 0.024252,
     "end_time": "2023-07-10T16:28:07.508578",
     "exception": false,
     "start_time": "2023-07-10T16:28:07.484326",
     "status": "completed"
    },
    "tags": []
   },
   "source": [
    "# Difference of Years Between Release Date of the Movie and the Date Rating Was Given"
   ]
  },
  {
   "cell_type": "markdown",
   "id": "6276a94c",
   "metadata": {
    "papermill": {
     "duration": 0.025165,
     "end_time": "2023-07-10T16:28:07.559184",
     "exception": false,
     "start_time": "2023-07-10T16:28:07.534019",
     "status": "completed"
    },
    "tags": []
   },
   "source": [
    "### To do this first let's merge the both datasets"
   ]
  },
  {
   "cell_type": "code",
   "execution_count": 8,
   "id": "47d5fe03",
   "metadata": {
    "execution": {
     "iopub.execute_input": "2023-07-10T16:28:07.610246Z",
     "iopub.status.busy": "2023-07-10T16:28:07.609849Z",
     "iopub.status.idle": "2023-07-10T16:28:07.660427Z",
     "shell.execute_reply": "2023-07-10T16:28:07.659631Z"
    },
    "papermill": {
     "duration": 0.079056,
     "end_time": "2023-07-10T16:28:07.662793",
     "exception": false,
     "start_time": "2023-07-10T16:28:07.583737",
     "status": "completed"
    },
    "tags": []
   },
   "outputs": [
    {
     "data": {
      "text/html": [
       "<div>\n",
       "<style scoped>\n",
       "    .dataframe tbody tr th:only-of-type {\n",
       "        vertical-align: middle;\n",
       "    }\n",
       "\n",
       "    .dataframe tbody tr th {\n",
       "        vertical-align: top;\n",
       "    }\n",
       "\n",
       "    .dataframe thead th {\n",
       "        text-align: right;\n",
       "    }\n",
       "</style>\n",
       "<table border=\"1\" class=\"dataframe\">\n",
       "  <thead>\n",
       "    <tr style=\"text-align: right;\">\n",
       "      <th></th>\n",
       "      <th>movieId</th>\n",
       "      <th>title</th>\n",
       "      <th>genres</th>\n",
       "      <th>year</th>\n",
       "      <th>userId</th>\n",
       "      <th>rating</th>\n",
       "      <th>timestamp</th>\n",
       "    </tr>\n",
       "  </thead>\n",
       "  <tbody>\n",
       "    <tr>\n",
       "      <th>0</th>\n",
       "      <td>1</td>\n",
       "      <td>Toy Story</td>\n",
       "      <td>Adventure|Animation|Children|Comedy|Fantasy</td>\n",
       "      <td>1995</td>\n",
       "      <td>1</td>\n",
       "      <td>4.0</td>\n",
       "      <td>964982703</td>\n",
       "    </tr>\n",
       "    <tr>\n",
       "      <th>1</th>\n",
       "      <td>1</td>\n",
       "      <td>Toy Story</td>\n",
       "      <td>Adventure|Animation|Children|Comedy|Fantasy</td>\n",
       "      <td>1995</td>\n",
       "      <td>5</td>\n",
       "      <td>4.0</td>\n",
       "      <td>847434962</td>\n",
       "    </tr>\n",
       "    <tr>\n",
       "      <th>2</th>\n",
       "      <td>1</td>\n",
       "      <td>Toy Story</td>\n",
       "      <td>Adventure|Animation|Children|Comedy|Fantasy</td>\n",
       "      <td>1995</td>\n",
       "      <td>7</td>\n",
       "      <td>4.5</td>\n",
       "      <td>1106635946</td>\n",
       "    </tr>\n",
       "    <tr>\n",
       "      <th>3</th>\n",
       "      <td>1</td>\n",
       "      <td>Toy Story</td>\n",
       "      <td>Adventure|Animation|Children|Comedy|Fantasy</td>\n",
       "      <td>1995</td>\n",
       "      <td>15</td>\n",
       "      <td>2.5</td>\n",
       "      <td>1510577970</td>\n",
       "    </tr>\n",
       "    <tr>\n",
       "      <th>4</th>\n",
       "      <td>1</td>\n",
       "      <td>Toy Story</td>\n",
       "      <td>Adventure|Animation|Children|Comedy|Fantasy</td>\n",
       "      <td>1995</td>\n",
       "      <td>17</td>\n",
       "      <td>4.5</td>\n",
       "      <td>1305696483</td>\n",
       "    </tr>\n",
       "  </tbody>\n",
       "</table>\n",
       "</div>"
      ],
      "text/plain": [
       "   movieId      title                                       genres  year  \\\n",
       "0        1  Toy Story  Adventure|Animation|Children|Comedy|Fantasy  1995   \n",
       "1        1  Toy Story  Adventure|Animation|Children|Comedy|Fantasy  1995   \n",
       "2        1  Toy Story  Adventure|Animation|Children|Comedy|Fantasy  1995   \n",
       "3        1  Toy Story  Adventure|Animation|Children|Comedy|Fantasy  1995   \n",
       "4        1  Toy Story  Adventure|Animation|Children|Comedy|Fantasy  1995   \n",
       "\n",
       "   userId  rating   timestamp  \n",
       "0       1     4.0   964982703  \n",
       "1       5     4.0   847434962  \n",
       "2       7     4.5  1106635946  \n",
       "3      15     2.5  1510577970  \n",
       "4      17     4.5  1305696483  "
      ]
     },
     "execution_count": 8,
     "metadata": {},
     "output_type": "execute_result"
    }
   ],
   "source": [
    "# Merge movies and ratings dataset based on the movieid column\n",
    "merged_data = movies_df.merge(ratings_df, on='movieId')\n",
    "merged_data.head()"
   ]
  },
  {
   "cell_type": "markdown",
   "id": "73444d7a",
   "metadata": {
    "papermill": {
     "duration": 0.025131,
     "end_time": "2023-07-10T16:28:07.713134",
     "exception": false,
     "start_time": "2023-07-10T16:28:07.688003",
     "status": "completed"
    },
    "tags": []
   },
   "source": [
    "### Now we have merged both ratings and movies, let's calculate the year difference"
   ]
  },
  {
   "cell_type": "code",
   "execution_count": 9,
   "id": "fee1099a",
   "metadata": {
    "execution": {
     "iopub.execute_input": "2023-07-10T16:28:07.765364Z",
     "iopub.status.busy": "2023-07-10T16:28:07.764681Z",
     "iopub.status.idle": "2023-07-10T16:28:07.855112Z",
     "shell.execute_reply": "2023-07-10T16:28:07.853693Z"
    },
    "papermill": {
     "duration": 0.119622,
     "end_time": "2023-07-10T16:28:07.857897",
     "exception": false,
     "start_time": "2023-07-10T16:28:07.738275",
     "status": "completed"
    },
    "tags": []
   },
   "outputs": [
    {
     "name": "stdout",
     "output_type": "stream",
     "text": [
      "        movieId                               title release_date  \\\n",
      "0             1                           Toy Story   1995-01-01   \n",
      "1             1                           Toy Story   1995-01-01   \n",
      "2             1                           Toy Story   1995-01-01   \n",
      "3             1                           Toy Story   1995-01-01   \n",
      "4             1                           Toy Story   1995-01-01   \n",
      "...         ...                                 ...          ...   \n",
      "100831   193581  Black Butler: Book of the Atlantic   2017-01-01   \n",
      "100832   193583               No Game No Life: Zero   2017-01-01   \n",
      "100833   193585                               Flint   2017-01-01   \n",
      "100834   193587        Bungo Stray Dogs: Dead Apple   2018-01-01   \n",
      "100835   193609        Andrew Dice Clay: Dice Rules   1991-01-01   \n",
      "\n",
      "                 timestamp  year_difference  \n",
      "0      2000-07-30 18:45:03              5.0  \n",
      "1      1996-11-08 06:36:02              1.0  \n",
      "2      2005-01-25 06:52:26             10.0  \n",
      "3      2017-11-13 12:59:30             22.0  \n",
      "4      2011-05-18 05:28:03             16.0  \n",
      "...                    ...              ...  \n",
      "100831 2018-09-16 14:44:42              1.0  \n",
      "100832 2018-09-16 14:52:25              1.0  \n",
      "100833 2018-09-16 14:56:45              1.0  \n",
      "100834 2018-09-16 15:00:21              0.0  \n",
      "100835 2018-09-17 04:13:26             27.0  \n",
      "\n",
      "[100836 rows x 5 columns]\n"
     ]
    }
   ],
   "source": [
    "# Convert release year and timestamp columns to datetime data type\n",
    "merged_data['release_date'] = pd.to_datetime(merged_data['year'], format='%Y')\n",
    "merged_data['timestamp'] = pd.to_datetime(merged_data['timestamp'], unit='s')\n",
    "\n",
    "# Calculate the year difference between release date and rating date\n",
    "merged_data['year_difference'] = (merged_data['timestamp'].dt.year - merged_data['release_date'].dt.year)\n",
    "\n",
    "# Print the year difference for each movie rating\n",
    "print(merged_data[['movieId', 'title', 'release_date', 'timestamp', 'year_difference']])"
   ]
  },
  {
   "cell_type": "code",
   "execution_count": 10,
   "id": "d8bf094b",
   "metadata": {
    "execution": {
     "iopub.execute_input": "2023-07-10T16:28:07.917049Z",
     "iopub.status.busy": "2023-07-10T16:28:07.916635Z",
     "iopub.status.idle": "2023-07-10T16:28:08.217536Z",
     "shell.execute_reply": "2023-07-10T16:28:08.216412Z"
    },
    "papermill": {
     "duration": 0.329791,
     "end_time": "2023-07-10T16:28:08.219956",
     "exception": false,
     "start_time": "2023-07-10T16:28:07.890165",
     "status": "completed"
    },
    "tags": []
   },
   "outputs": [
    {
     "data": {
      "image/png": "[encoded data removed]",
      "text/plain": [
       "<Figure size 1000x600 with 1 Axes>"
      ]
     },
     "metadata": {},
     "output_type": "display_data"
    }
   ],
   "source": [
    "# Plotting the year difference distribution\n",
    "plt.figure(figsize=(10, 6))\n",
    "plt.hist(merged_data['year_difference'], bins=15, edgecolor='black')\n",
    "plt.xlabel('Year Difference')\n",
    "plt.ylabel('Frequency')\n",
    "plt.title('Distribution of Year Difference between Release Date and Rating Date')\n",
    "plt.show()"
   ]
  },
  {
   "cell_type": "markdown",
   "id": "8798e156",
   "metadata": {
    "papermill": {
     "duration": 0.025072,
     "end_time": "2023-07-10T16:28:08.271016",
     "exception": false,
     "start_time": "2023-07-10T16:28:08.245944",
     "status": "completed"
    },
    "tags": []
   },
   "source": [
    "# Top 10 most rated movies"
   ]
  },
  {
   "cell_type": "code",
   "execution_count": 11,
   "id": "a1493ce9",
   "metadata": {
    "execution": {
     "iopub.execute_input": "2023-07-10T16:28:08.324263Z",
     "iopub.status.busy": "2023-07-10T16:28:08.323167Z",
     "iopub.status.idle": "2023-07-10T16:28:08.648525Z",
     "shell.execute_reply": "2023-07-10T16:28:08.647231Z"
    },
    "papermill": {
     "duration": 0.354718,
     "end_time": "2023-07-10T16:28:08.651180",
     "exception": false,
     "start_time": "2023-07-10T16:28:08.296462",
     "status": "completed"
    },
    "tags": []
   },
   "outputs": [
    {
     "data": {
      "image/png": "[encoded data removed]",
      "text/plain": [
       "<Figure size 1000x600 with 1 Axes>"
      ]
     },
     "metadata": {},
     "output_type": "display_data"
    }
   ],
   "source": [
    "# Count the number of ratings for each movie\n",
    "movie_ratings = merged_data['title'].value_counts().head(10)\n",
    "\n",
    "# Plotting the top 10 most rated movies\n",
    "plt.figure(figsize=(10, 6))\n",
    "sns.barplot(x=movie_ratings.values, y=movie_ratings.index)\n",
    "plt.xlabel('Number of Ratings')\n",
    "plt.ylabel('Movie Title')\n",
    "plt.title('Top 10 Most Rated Movies')\n",
    "plt.show()\n"
   ]
  },
  {
   "cell_type": "markdown",
   "id": "8719d12b",
   "metadata": {
    "papermill": {
     "duration": 0.025776,
     "end_time": "2023-07-10T16:28:08.703908",
     "exception": false,
     "start_time": "2023-07-10T16:28:08.678132",
     "status": "completed"
    },
    "tags": []
   },
   "source": [
    "# How are the ratings distributed across all movies"
   ]
  },
  {
   "cell_type": "code",
   "execution_count": 12,
   "id": "4fa09bb1",
   "metadata": {
    "execution": {
     "iopub.execute_input": "2023-07-10T16:28:08.759008Z",
     "iopub.status.busy": "2023-07-10T16:28:08.758626Z",
     "iopub.status.idle": "2023-07-10T16:28:09.778192Z",
     "shell.execute_reply": "2023-07-10T16:28:09.777089Z"
    },
    "papermill": {
     "duration": 1.049881,
     "end_time": "2023-07-10T16:28:09.780568",
     "exception": false,
     "start_time": "2023-07-10T16:28:08.730687",
     "status": "completed"
    },
    "tags": []
   },
   "outputs": [
    {
     "data": {
      "image/png": "[encoded data removed]",
      "text/plain": [
       "<Figure size 1000x600 with 1 Axes>"
      ]
     },
     "metadata": {},
     "output_type": "display_data"
    }
   ],
   "source": [
    "plt.figure(figsize=(10, 6))\n",
    "sns.histplot(ratings_df['rating'], kde=True)\n",
    "plt.xlabel('Rating')\n",
    "plt.ylabel('Frequency')\n",
    "plt.title('Distribution of Movie Ratings')\n",
    "plt.show()"
   ]
  },
  {
   "cell_type": "markdown",
   "id": "b1ed1882",
   "metadata": {
    "papermill": {
     "duration": 0.026798,
     "end_time": "2023-07-10T16:28:09.834613",
     "exception": false,
     "start_time": "2023-07-10T16:28:09.807815",
     "status": "completed"
    },
    "tags": []
   },
   "source": [
    "# Distribution of ratings for a specific movie"
   ]
  },
  {
   "cell_type": "code",
   "execution_count": 13,
   "id": "00e6a0cf",
   "metadata": {
    "execution": {
     "iopub.execute_input": "2023-07-10T16:28:09.890980Z",
     "iopub.status.busy": "2023-07-10T16:28:09.889882Z",
     "iopub.status.idle": "2023-07-10T16:28:10.298981Z",
     "shell.execute_reply": "2023-07-10T16:28:10.297869Z"
    },
    "papermill": {
     "duration": 0.43984,
     "end_time": "2023-07-10T16:28:10.301407",
     "exception": false,
     "start_time": "2023-07-10T16:28:09.861567",
     "status": "completed"
    },
    "tags": []
   },
   "outputs": [
    {
     "data": {
      "image/png": "[encoded data removed]",
      "text/plain": [
       "<Figure size 1000x600 with 1 Axes>"
      ]
     },
     "metadata": {},
     "output_type": "display_data"
    }
   ],
   "source": [
    "movie_id = 1  # Specify the movie ID for analysis\n",
    "\n",
    "# Filter ratings data for the specific movie\n",
    "movie_ratings = ratings_df[ratings_df['movieId'] == movie_id]['rating']\n",
    "\n",
    "# Plotting the distribution of ratings for the specific movie\n",
    "plt.figure(figsize=(10, 6))\n",
    "sns.histplot(movie_ratings, kde=True)\n",
    "plt.xlabel('Rating')\n",
    "plt.ylabel('Frequency')\n",
    "plt.title(f'Distribution of Ratings for Movie {movie_id}')\n",
    "plt.show()\n"
   ]
  },
  {
   "cell_type": "markdown",
   "id": "257df8da",
   "metadata": {
    "papermill": {
     "duration": 0.027805,
     "end_time": "2023-07-10T16:28:10.357071",
     "exception": false,
     "start_time": "2023-07-10T16:28:10.329266",
     "status": "completed"
    },
    "tags": []
   },
   "source": [
    "# Average rating for each movie genre"
   ]
  },
  {
   "cell_type": "code",
   "execution_count": 14,
   "id": "e68c0ece",
   "metadata": {
    "execution": {
     "iopub.execute_input": "2023-07-10T16:28:10.414484Z",
     "iopub.status.busy": "2023-07-10T16:28:10.414039Z",
     "iopub.status.idle": "2023-07-10T16:28:10.441154Z",
     "shell.execute_reply": "2023-07-10T16:28:10.439607Z"
    },
    "papermill": {
     "duration": 0.058725,
     "end_time": "2023-07-10T16:28:10.443690",
     "exception": false,
     "start_time": "2023-07-10T16:28:10.384965",
     "status": "completed"
    },
    "tags": []
   },
   "outputs": [
    {
     "name": "stdout",
     "output_type": "stream",
     "text": [
      "genres\n",
      "(no genres listed)                     3.489362\n",
      "Action                                 2.935484\n",
      "Action|Adventure                       3.706306\n",
      "Action|Adventure|Animation             3.583333\n",
      "Action|Adventure|Animation|Children    3.410256\n",
      "                                         ...   \n",
      "Sci-Fi|Thriller                        3.280172\n",
      "Sci-Fi|Thriller|IMAX                   3.708333\n",
      "Thriller                               3.426752\n",
      "War                                    3.555556\n",
      "Western                                3.658940\n",
      "Name: rating, Length: 951, dtype: float64\n"
     ]
    }
   ],
   "source": [
    "# Average rating for each movie genre\n",
    "average_rating_by_genre = merged_data.groupby('genres')['rating'].mean()\n",
    "\n",
    "print(average_rating_by_genre)"
   ]
  },
  {
   "cell_type": "markdown",
   "id": "653ed782",
   "metadata": {
    "papermill": {
     "duration": 0.027646,
     "end_time": "2023-07-10T16:28:10.499757",
     "exception": false,
     "start_time": "2023-07-10T16:28:10.472111",
     "status": "completed"
    },
    "tags": []
   },
   "source": [
    "# Average rating for each year"
   ]
  },
  {
   "cell_type": "code",
   "execution_count": 15,
   "id": "d29c3aee",
   "metadata": {
    "execution": {
     "iopub.execute_input": "2023-07-10T16:28:10.558411Z",
     "iopub.status.busy": "2023-07-10T16:28:10.557536Z",
     "iopub.status.idle": "2023-07-10T16:28:11.535144Z",
     "shell.execute_reply": "2023-07-10T16:28:11.533999Z"
    },
    "papermill": {
     "duration": 1.009517,
     "end_time": "2023-07-10T16:28:11.537884",
     "exception": false,
     "start_time": "2023-07-10T16:28:10.528367",
     "status": "completed"
    },
    "tags": []
   },
   "outputs": [
    {
     "data": {
      "image/png": "[encoded data removed]",
      "text/plain": [
       "<Figure size 1000x600 with 1 Axes>"
      ]
     },
     "metadata": {},
     "output_type": "display_data"
    }
   ],
   "source": [
    "# Calculate the average rating for each year\n",
    "avg_ratings = merged_data.groupby('year')['rating'].mean()\n",
    "\n",
    "# Plotting the average rating for each year\n",
    "plt.figure(figsize=(10, 6))\n",
    "plt.plot(avg_ratings.index, avg_ratings.values, marker='o')\n",
    "plt.xlabel('Year')\n",
    "plt.ylabel('Average Rating')\n",
    "plt.title('Average Rating for Each Year')\n",
    "plt.show()"
   ]
  },
  {
   "cell_type": "markdown",
   "id": "b3274afc",
   "metadata": {
    "papermill": {
     "duration": 0.02841,
     "end_time": "2023-07-10T16:28:11.595173",
     "exception": false,
     "start_time": "2023-07-10T16:28:11.566763",
     "status": "completed"
    },
    "tags": []
   },
   "source": [
    "# Top 10 highest-rated movies"
   ]
  },
  {
   "cell_type": "code",
   "execution_count": 16,
   "id": "b129e115",
   "metadata": {
    "execution": {
     "iopub.execute_input": "2023-07-10T16:28:11.654697Z",
     "iopub.status.busy": "2023-07-10T16:28:11.654282Z",
     "iopub.status.idle": "2023-07-10T16:28:11.968612Z",
     "shell.execute_reply": "2023-07-10T16:28:11.967086Z"
    },
    "papermill": {
     "duration": 0.347091,
     "end_time": "2023-07-10T16:28:11.971156",
     "exception": false,
     "start_time": "2023-07-10T16:28:11.624065",
     "status": "completed"
    },
    "tags": []
   },
   "outputs": [
    {
     "data": {
      "image/png": "[encoded data removed]",
      "text/plain": [
       "<Figure size 1000x600 with 1 Axes>"
      ]
     },
     "metadata": {},
     "output_type": "display_data"
    }
   ],
   "source": [
    "# Calculate the average rating for each movie\n",
    "avg_ratings = ratings_df.groupby('movieId')['rating'].mean()\n",
    "avg_ratings = avg_ratings.sort_values(ascending=False).head(10)\n",
    "\n",
    "# Get the movie titles for the top 10 highest-rated movies\n",
    "top_rated_movies = movies_df[movies_df['movieId'].isin(avg_ratings.index)]['title']\n",
    "\n",
    "# Plotting the top 10 highest-rated movies\n",
    "plt.figure(figsize=(10, 6))\n",
    "sns.barplot(x=avg_ratings.values, y=top_rated_movies)\n",
    "plt.xlabel('Average Rating')\n",
    "plt.ylabel('Movie Title')\n",
    "plt.title('Top 10 Highest-Rated Movies')\n",
    "plt.show()\n"
   ]
  },
  {
   "cell_type": "markdown",
   "id": "5c671639",
   "metadata": {
    "papermill": {
     "duration": 0.030908,
     "end_time": "2023-07-10T16:28:12.031847",
     "exception": false,
     "start_time": "2023-07-10T16:28:12.000939",
     "status": "completed"
    },
    "tags": []
   },
   "source": [
    "# How many ratings does each user contribute"
   ]
  },
  {
   "cell_type": "code",
   "execution_count": 17,
   "id": "dc9a4b44",
   "metadata": {
    "execution": {
     "iopub.execute_input": "2023-07-10T16:28:12.093242Z",
     "iopub.status.busy": "2023-07-10T16:28:12.092063Z",
     "iopub.status.idle": "2023-07-10T16:28:12.542593Z",
     "shell.execute_reply": "2023-07-10T16:28:12.541512Z"
    },
    "papermill": {
     "duration": 0.484454,
     "end_time": "2023-07-10T16:28:12.545546",
     "exception": false,
     "start_time": "2023-07-10T16:28:12.061092",
     "status": "completed"
    },
    "tags": []
   },
   "outputs": [
    {
     "data": {
      "image/png": "[encoded data removed]",
      "text/plain": [
       "<Figure size 1000x600 with 1 Axes>"
      ]
     },
     "metadata": {},
     "output_type": "display_data"
    }
   ],
   "source": [
    "# Count the number of ratings by each user\n",
    "user_rating_counts = ratings_df['userId'].value_counts()\n",
    "\n",
    "# Plotting the number of ratings contributed by each user\n",
    "plt.figure(figsize=(10, 6))\n",
    "sns.histplot(user_rating_counts, kde=True)\n",
    "plt.xlabel('Number of Ratings')\n",
    "plt.ylabel('Frequency')\n",
    "plt.title('Distribution of User Ratings')\n",
    "plt.show()"
   ]
  },
  {
   "cell_type": "markdown",
   "id": "a6ef24b8",
   "metadata": {
    "papermill": {
     "duration": 0.029907,
     "end_time": "2023-07-10T16:28:12.607051",
     "exception": false,
     "start_time": "2023-07-10T16:28:12.577144",
     "status": "completed"
    },
    "tags": []
   },
   "source": [
    "# Ratings distributed for a specific genre"
   ]
  },
  {
   "cell_type": "code",
   "execution_count": 18,
   "id": "e8a41730",
   "metadata": {
    "execution": {
     "iopub.execute_input": "2023-07-10T16:28:12.669846Z",
     "iopub.status.busy": "2023-07-10T16:28:12.668487Z",
     "iopub.status.idle": "2023-07-10T16:28:13.115866Z",
     "shell.execute_reply": "2023-07-10T16:28:13.114769Z"
    },
    "papermill": {
     "duration": 0.481372,
     "end_time": "2023-07-10T16:28:13.118594",
     "exception": false,
     "start_time": "2023-07-10T16:28:12.637222",
     "status": "completed"
    },
    "tags": []
   },
   "outputs": [
    {
     "data": {
      "image/png": "[encoded data removed]",
      "text/plain": [
       "<Figure size 1000x600 with 1 Axes>"
      ]
     },
     "metadata": {},
     "output_type": "display_data"
    }
   ],
   "source": [
    "genre = 'Comedy'  # Specify the genre for analysis\n",
    "\n",
    "# Filter ratings data for the specific genre\n",
    "genre_ratings = merged_data[merged_data['genres'] == genre]['rating']\n",
    "\n",
    "# Plotting the distribution of ratings for the specific genre\n",
    "plt.figure(figsize=(10, 6))\n",
    "sns.histplot(genre_ratings, kde=True)\n",
    "plt.xlabel('Rating')\n",
    "plt.ylabel('Frequency')\n",
    "plt.title(f'Distribution of Ratings for Genre: {genre}')\n",
    "plt.show()\n"
   ]
  },
  {
   "cell_type": "markdown",
   "id": "cdc8ced1",
   "metadata": {
    "papermill": {
     "duration": 0.030541,
     "end_time": "2023-07-10T16:28:13.179449",
     "exception": false,
     "start_time": "2023-07-10T16:28:13.148908",
     "status": "completed"
    },
    "tags": []
   },
   "source": [
    "# How are the ratings distributed for a specific movie across different user ratings"
   ]
  },
  {
   "cell_type": "code",
   "execution_count": 19,
   "id": "6b09050c",
   "metadata": {
    "execution": {
     "iopub.execute_input": "2023-07-10T16:28:13.243060Z",
     "iopub.status.busy": "2023-07-10T16:28:13.242669Z",
     "iopub.status.idle": "2023-07-10T16:28:17.040061Z",
     "shell.execute_reply": "2023-07-10T16:28:17.038935Z"
    },
    "papermill": {
     "duration": 3.831993,
     "end_time": "2023-07-10T16:28:17.042483",
     "exception": false,
     "start_time": "2023-07-10T16:28:13.210490",
     "status": "completed"
    },
    "tags": []
   },
   "outputs": [
    {
     "data": {
      "image/png": "[encoded data removed]",
      "text/plain": [
       "<Figure size 1000x600 with 1 Axes>"
      ]
     },
     "metadata": {},
     "output_type": "display_data"
    }
   ],
   "source": [
    "movie_id = 1  # Specify the movie ID for analysis\n",
    "\n",
    "# Filter ratings data for the specific movie\n",
    "movie_ratings = merged_data[merged_data['movieId'] == movie_id]\n",
    "\n",
    "# Plotting the distribution of ratings for the specific movie across different user ratings\n",
    "plt.figure(figsize=(10, 6))\n",
    "sns.boxplot(data=movie_ratings, x='userId', y='rating')\n",
    "plt.xlabel('User ID')\n",
    "plt.ylabel('Rating')\n",
    "plt.title(f'Distribution of Ratings for Movie {movie_id} across Different Users')\n",
    "plt.show()\n"
   ]
  },
  {
   "cell_type": "markdown",
   "id": "a9b15b9c",
   "metadata": {
    "button": false,
    "new_sheet": false,
    "papermill": {
     "duration": 0.030585,
     "end_time": "2023-07-10T16:28:17.103807",
     "exception": false,
     "start_time": "2023-07-10T16:28:17.073222",
     "status": "completed"
    },
    "run_control": {
     "read_only": false
    },
    "tags": []
   },
   "source": [
    "<hr>\n",
    "\n",
    "<a id=\"ref3\"></a>\n",
    "# Collaborative Filtering\n"
   ]
  },
  {
   "cell_type": "markdown",
   "id": "0cbf76ba",
   "metadata": {
    "button": false,
    "new_sheet": false,
    "papermill": {
     "duration": 0.03052,
     "end_time": "2023-07-10T16:28:17.165254",
     "exception": false,
     "start_time": "2023-07-10T16:28:17.134734",
     "status": "completed"
    },
    "run_control": {
     "read_only": false
    },
    "tags": []
   },
   "source": [
    "### Now it's time to start our work on recommendation systems. \n",
    "\n",
    "### The first technique we're going to take a look at is called __Collaborative Filtering__, which is also known as __User-User Filtering__. As hinted by its alternate name, this technique uses other users to recommend items to the input user. It attempts to find users that have similar preferences and opinions as the input and then recommends items that they have liked to the input. There are several methods of finding similar users (Even some making use of Machine Learning), and the one we will be using here is going to be based on the __Pearson Correlation Function__.\n",
    "\n",
    "<img src=\"https://cf-courses-data.s3.us.cloud-object-storage.appdomain.cloud/IBMDeveloperSkillsNetwork-ML0101EN-SkillsNetwork/labs/Module%205/images/User_Item.png\" width=\"800px\">\n",
    "\n",
    "\n",
    "### **The process for creating a User Based recommendation system is as follows:**\n",
    "#### - Select a user with the movies the user has watched\n",
    "#### - Based on his rating of the movies, find the top X neighbours \n",
    "#### - Get the watched movie record of the user for each neighbour\n",
    "#### - Calculate a similarity score using some formula\n",
    "#### - Recommend the items with the highest score\n",
    "\n",
    "\n",
    "### Let's begin by creating an input user to recommend movies to.\n",
    "\n",
    "### **Notice: To add more movies, simply increase the amount of elements in the userInput. Feel free to add more in! Just be sure to write it in with capital letters and if a movie starts with a \"The\", like \"The Matrix\" then write it in like this: 'Matrix, The' .**\n"
   ]
  },
  {
   "cell_type": "code",
   "execution_count": 20,
   "id": "d8986d88",
   "metadata": {
    "button": false,
    "execution": {
     "iopub.execute_input": "2023-07-10T16:28:17.229774Z",
     "iopub.status.busy": "2023-07-10T16:28:17.229106Z",
     "iopub.status.idle": "2023-07-10T16:28:17.242639Z",
     "shell.execute_reply": "2023-07-10T16:28:17.241490Z"
    },
    "new_sheet": false,
    "papermill": {
     "duration": 0.0489,
     "end_time": "2023-07-10T16:28:17.244883",
     "exception": false,
     "start_time": "2023-07-10T16:28:17.195983",
     "status": "completed"
    },
    "run_control": {
     "read_only": false
    },
    "tags": []
   },
   "outputs": [
    {
     "data": {
      "text/html": [
       "<div>\n",
       "<style scoped>\n",
       "    .dataframe tbody tr th:only-of-type {\n",
       "        vertical-align: middle;\n",
       "    }\n",
       "\n",
       "    .dataframe tbody tr th {\n",
       "        vertical-align: top;\n",
       "    }\n",
       "\n",
       "    .dataframe thead th {\n",
       "        text-align: right;\n",
       "    }\n",
       "</style>\n",
       "<table border=\"1\" class=\"dataframe\">\n",
       "  <thead>\n",
       "    <tr style=\"text-align: right;\">\n",
       "      <th></th>\n",
       "      <th>title</th>\n",
       "      <th>rating</th>\n",
       "    </tr>\n",
       "  </thead>\n",
       "  <tbody>\n",
       "    <tr>\n",
       "      <th>0</th>\n",
       "      <td>Breakfast Club, The</td>\n",
       "      <td>5.0</td>\n",
       "    </tr>\n",
       "    <tr>\n",
       "      <th>1</th>\n",
       "      <td>Toy Story</td>\n",
       "      <td>3.5</td>\n",
       "    </tr>\n",
       "    <tr>\n",
       "      <th>2</th>\n",
       "      <td>Jumanji</td>\n",
       "      <td>2.0</td>\n",
       "    </tr>\n",
       "    <tr>\n",
       "      <th>3</th>\n",
       "      <td>Pulp Fiction</td>\n",
       "      <td>5.0</td>\n",
       "    </tr>\n",
       "    <tr>\n",
       "      <th>4</th>\n",
       "      <td>Akira</td>\n",
       "      <td>4.5</td>\n",
       "    </tr>\n",
       "  </tbody>\n",
       "</table>\n",
       "</div>"
      ],
      "text/plain": [
       "                 title  rating\n",
       "0  Breakfast Club, The     5.0\n",
       "1            Toy Story     3.5\n",
       "2              Jumanji     2.0\n",
       "3         Pulp Fiction     5.0\n",
       "4                Akira     4.5"
      ]
     },
     "execution_count": 20,
     "metadata": {},
     "output_type": "execute_result"
    }
   ],
   "source": [
    "userInput = [\n",
    "            {'title':'Breakfast Club, The', 'rating':5},\n",
    "            {'title':'Toy Story', 'rating':3.5},\n",
    "            {'title':'Jumanji', 'rating':2},\n",
    "            {'title':\"Pulp Fiction\", 'rating':5},\n",
    "            {'title':'Akira', 'rating':4.5}\n",
    "         ] \n",
    "inputMovies = pd.DataFrame(userInput)\n",
    "inputMovies"
   ]
  },
  {
   "cell_type": "markdown",
   "id": "a22fb6af",
   "metadata": {
    "button": false,
    "new_sheet": false,
    "papermill": {
     "duration": 0.030589,
     "end_time": "2023-07-10T16:28:17.306423",
     "exception": false,
     "start_time": "2023-07-10T16:28:17.275834",
     "status": "completed"
    },
    "run_control": {
     "read_only": false
    },
    "tags": []
   },
   "source": [
    "# Add movieId to input user\n",
    "### With the input complete, let's extract the input movies's ID's from the movies dataframe and add them into it.\n",
    "\n",
    "### We can achieve this by first filtering out the rows that contain the input movies' title and then merging this subset with the input dataframe. We also drop unnecessary columns for the input to save memory space.\n"
   ]
  },
  {
   "cell_type": "code",
   "execution_count": 21,
   "id": "118a851b",
   "metadata": {
    "button": false,
    "execution": {
     "iopub.execute_input": "2023-07-10T16:28:17.370375Z",
     "iopub.status.busy": "2023-07-10T16:28:17.369710Z",
     "iopub.status.idle": "2023-07-10T16:28:17.390983Z",
     "shell.execute_reply": "2023-07-10T16:28:17.389781Z"
    },
    "new_sheet": false,
    "papermill": {
     "duration": 0.056461,
     "end_time": "2023-07-10T16:28:17.393697",
     "exception": false,
     "start_time": "2023-07-10T16:28:17.337236",
     "status": "completed"
    },
    "run_control": {
     "read_only": false
    },
    "scrolled": true,
    "tags": []
   },
   "outputs": [
    {
     "name": "stderr",
     "output_type": "stream",
     "text": [
      "/tmp/ipykernel_20/2035672847.py:6: FutureWarning: In a future version of pandas all arguments of DataFrame.drop except for the argument 'labels' will be keyword-only.\n",
      "  inputMovies = inputMovies.drop('year', 1)\n"
     ]
    },
    {
     "data": {
      "text/html": [
       "<div>\n",
       "<style scoped>\n",
       "    .dataframe tbody tr th:only-of-type {\n",
       "        vertical-align: middle;\n",
       "    }\n",
       "\n",
       "    .dataframe tbody tr th {\n",
       "        vertical-align: top;\n",
       "    }\n",
       "\n",
       "    .dataframe thead th {\n",
       "        text-align: right;\n",
       "    }\n",
       "</style>\n",
       "<table border=\"1\" class=\"dataframe\">\n",
       "  <thead>\n",
       "    <tr style=\"text-align: right;\">\n",
       "      <th></th>\n",
       "      <th>movieId</th>\n",
       "      <th>title</th>\n",
       "      <th>genres</th>\n",
       "      <th>rating</th>\n",
       "    </tr>\n",
       "  </thead>\n",
       "  <tbody>\n",
       "    <tr>\n",
       "      <th>0</th>\n",
       "      <td>1</td>\n",
       "      <td>Toy Story</td>\n",
       "      <td>Adventure|Animation|Children|Comedy|Fantasy</td>\n",
       "      <td>3.5</td>\n",
       "    </tr>\n",
       "    <tr>\n",
       "      <th>1</th>\n",
       "      <td>2</td>\n",
       "      <td>Jumanji</td>\n",
       "      <td>Adventure|Children|Fantasy</td>\n",
       "      <td>2.0</td>\n",
       "    </tr>\n",
       "    <tr>\n",
       "      <th>2</th>\n",
       "      <td>296</td>\n",
       "      <td>Pulp Fiction</td>\n",
       "      <td>Comedy|Crime|Drama|Thriller</td>\n",
       "      <td>5.0</td>\n",
       "    </tr>\n",
       "    <tr>\n",
       "      <th>3</th>\n",
       "      <td>1274</td>\n",
       "      <td>Akira</td>\n",
       "      <td>Action|Adventure|Animation|Sci-Fi</td>\n",
       "      <td>4.5</td>\n",
       "    </tr>\n",
       "    <tr>\n",
       "      <th>4</th>\n",
       "      <td>1968</td>\n",
       "      <td>Breakfast Club, The</td>\n",
       "      <td>Comedy|Drama</td>\n",
       "      <td>5.0</td>\n",
       "    </tr>\n",
       "  </tbody>\n",
       "</table>\n",
       "</div>"
      ],
      "text/plain": [
       "   movieId                title                                       genres  \\\n",
       "0        1            Toy Story  Adventure|Animation|Children|Comedy|Fantasy   \n",
       "1        2              Jumanji                   Adventure|Children|Fantasy   \n",
       "2      296         Pulp Fiction                  Comedy|Crime|Drama|Thriller   \n",
       "3     1274                Akira            Action|Adventure|Animation|Sci-Fi   \n",
       "4     1968  Breakfast Club, The                                 Comedy|Drama   \n",
       "\n",
       "   rating  \n",
       "0     3.5  \n",
       "1     2.0  \n",
       "2     5.0  \n",
       "3     4.5  \n",
       "4     5.0  "
      ]
     },
     "execution_count": 21,
     "metadata": {},
     "output_type": "execute_result"
    }
   ],
   "source": [
    "#Filtering out the movies by title\n",
    "inputId = movies_df[movies_df['title'].isin(inputMovies['title'].tolist())]\n",
    "#Then merging it so we can get the movieId. It's implicitly merging it by title.\n",
    "inputMovies = pd.merge(inputId, inputMovies)\n",
    "#Dropping information we won't use from the input dataframe\n",
    "inputMovies = inputMovies.drop('year', 1)\n",
    "#Final input dataframe\n",
    "#If a movie you added in above isn't here, then it might not be in the original \n",
    "#dataframe or it might spelled differently, please check capitalisation.\n",
    "inputMovies"
   ]
  },
  {
   "cell_type": "markdown",
   "id": "e041c6bf",
   "metadata": {
    "button": false,
    "new_sheet": false,
    "papermill": {
     "duration": 0.030995,
     "end_time": "2023-07-10T16:28:17.456127",
     "exception": false,
     "start_time": "2023-07-10T16:28:17.425132",
     "status": "completed"
    },
    "run_control": {
     "read_only": false
    },
    "tags": []
   },
   "source": [
    "# The users who has seen the same movies\n",
    "### Now with the movie ID's in our input, we can now get the subset of users that have watched and reviewed the movies in our input.\n"
   ]
  },
  {
   "cell_type": "code",
   "execution_count": 22,
   "id": "aaf9bea5",
   "metadata": {
    "button": false,
    "execution": {
     "iopub.execute_input": "2023-07-10T16:28:17.520713Z",
     "iopub.status.busy": "2023-07-10T16:28:17.520149Z",
     "iopub.status.idle": "2023-07-10T16:28:17.535095Z",
     "shell.execute_reply": "2023-07-10T16:28:17.533940Z"
    },
    "new_sheet": false,
    "papermill": {
     "duration": 0.049934,
     "end_time": "2023-07-10T16:28:17.537304",
     "exception": false,
     "start_time": "2023-07-10T16:28:17.487370",
     "status": "completed"
    },
    "run_control": {
     "read_only": false
    },
    "tags": []
   },
   "outputs": [
    {
     "data": {
      "text/html": [
       "<div>\n",
       "<style scoped>\n",
       "    .dataframe tbody tr th:only-of-type {\n",
       "        vertical-align: middle;\n",
       "    }\n",
       "\n",
       "    .dataframe tbody tr th {\n",
       "        vertical-align: top;\n",
       "    }\n",
       "\n",
       "    .dataframe thead th {\n",
       "        text-align: right;\n",
       "    }\n",
       "</style>\n",
       "<table border=\"1\" class=\"dataframe\">\n",
       "  <thead>\n",
       "    <tr style=\"text-align: right;\">\n",
       "      <th></th>\n",
       "      <th>userId</th>\n",
       "      <th>movieId</th>\n",
       "      <th>rating</th>\n",
       "      <th>timestamp</th>\n",
       "    </tr>\n",
       "  </thead>\n",
       "  <tbody>\n",
       "    <tr>\n",
       "      <th>0</th>\n",
       "      <td>1</td>\n",
       "      <td>1</td>\n",
       "      <td>4.0</td>\n",
       "      <td>964982703</td>\n",
       "    </tr>\n",
       "    <tr>\n",
       "      <th>16</th>\n",
       "      <td>1</td>\n",
       "      <td>296</td>\n",
       "      <td>3.0</td>\n",
       "      <td>964982967</td>\n",
       "    </tr>\n",
       "    <tr>\n",
       "      <th>320</th>\n",
       "      <td>4</td>\n",
       "      <td>296</td>\n",
       "      <td>1.0</td>\n",
       "      <td>945173350</td>\n",
       "    </tr>\n",
       "    <tr>\n",
       "      <th>422</th>\n",
       "      <td>4</td>\n",
       "      <td>1968</td>\n",
       "      <td>4.0</td>\n",
       "      <td>986934786</td>\n",
       "    </tr>\n",
       "    <tr>\n",
       "      <th>516</th>\n",
       "      <td>5</td>\n",
       "      <td>1</td>\n",
       "      <td>4.0</td>\n",
       "      <td>847434962</td>\n",
       "    </tr>\n",
       "  </tbody>\n",
       "</table>\n",
       "</div>"
      ],
      "text/plain": [
       "     userId  movieId  rating  timestamp\n",
       "0         1        1     4.0  964982703\n",
       "16        1      296     3.0  964982967\n",
       "320       4      296     1.0  945173350\n",
       "422       4     1968     4.0  986934786\n",
       "516       5        1     4.0  847434962"
      ]
     },
     "execution_count": 22,
     "metadata": {},
     "output_type": "execute_result"
    }
   ],
   "source": [
    "#Filtering out users that have watched movies that the input has watched and storing it\n",
    "userSubset = ratings_df[ratings_df['movieId'].isin(inputMovies['movieId'].tolist())]\n",
    "userSubset.head()"
   ]
  },
  {
   "cell_type": "markdown",
   "id": "948a0abf",
   "metadata": {
    "button": false,
    "new_sheet": false,
    "papermill": {
     "duration": 0.031304,
     "end_time": "2023-07-10T16:28:17.601019",
     "exception": false,
     "start_time": "2023-07-10T16:28:17.569715",
     "status": "completed"
    },
    "run_control": {
     "read_only": false
    },
    "tags": []
   },
   "source": [
    "### We now group up the rows by user ID.\n"
   ]
  },
  {
   "cell_type": "code",
   "execution_count": 23,
   "id": "51172c6f",
   "metadata": {
    "button": false,
    "execution": {
     "iopub.execute_input": "2023-07-10T16:28:17.666576Z",
     "iopub.status.busy": "2023-07-10T16:28:17.665842Z",
     "iopub.status.idle": "2023-07-10T16:28:17.681808Z",
     "shell.execute_reply": "2023-07-10T16:28:17.680756Z"
    },
    "new_sheet": false,
    "papermill": {
     "duration": 0.051717,
     "end_time": "2023-07-10T16:28:17.684350",
     "exception": false,
     "start_time": "2023-07-10T16:28:17.632633",
     "status": "completed"
    },
    "run_control": {
     "read_only": false
    },
    "tags": []
   },
   "outputs": [
    {
     "data": {
      "text/html": [
       "<div>\n",
       "<style scoped>\n",
       "    .dataframe tbody tr th:only-of-type {\n",
       "        vertical-align: middle;\n",
       "    }\n",
       "\n",
       "    .dataframe tbody tr th {\n",
       "        vertical-align: top;\n",
       "    }\n",
       "\n",
       "    .dataframe thead th {\n",
       "        text-align: right;\n",
       "    }\n",
       "</style>\n",
       "<table border=\"1\" class=\"dataframe\">\n",
       "  <thead>\n",
       "    <tr style=\"text-align: right;\">\n",
       "      <th></th>\n",
       "      <th>userId</th>\n",
       "      <th>movieId</th>\n",
       "      <th>rating</th>\n",
       "      <th>timestamp</th>\n",
       "    </tr>\n",
       "  </thead>\n",
       "  <tbody>\n",
       "    <tr>\n",
       "      <th>0</th>\n",
       "      <td>1</td>\n",
       "      <td>1</td>\n",
       "      <td>4.0</td>\n",
       "      <td>964982703</td>\n",
       "    </tr>\n",
       "    <tr>\n",
       "      <th>16</th>\n",
       "      <td>1</td>\n",
       "      <td>296</td>\n",
       "      <td>3.0</td>\n",
       "      <td>964982967</td>\n",
       "    </tr>\n",
       "    <tr>\n",
       "      <th>320</th>\n",
       "      <td>4</td>\n",
       "      <td>296</td>\n",
       "      <td>1.0</td>\n",
       "      <td>945173350</td>\n",
       "    </tr>\n",
       "    <tr>\n",
       "      <th>422</th>\n",
       "      <td>4</td>\n",
       "      <td>1968</td>\n",
       "      <td>4.0</td>\n",
       "      <td>986934786</td>\n",
       "    </tr>\n",
       "    <tr>\n",
       "      <th>516</th>\n",
       "      <td>5</td>\n",
       "      <td>1</td>\n",
       "      <td>4.0</td>\n",
       "      <td>847434962</td>\n",
       "    </tr>\n",
       "    <tr>\n",
       "      <th>...</th>\n",
       "      <td>...</td>\n",
       "      <td>...</td>\n",
       "      <td>...</td>\n",
       "      <td>...</td>\n",
       "    </tr>\n",
       "    <tr>\n",
       "      <th>99510</th>\n",
       "      <td>609</td>\n",
       "      <td>296</td>\n",
       "      <td>4.0</td>\n",
       "      <td>847220802</td>\n",
       "    </tr>\n",
       "    <tr>\n",
       "      <th>99534</th>\n",
       "      <td>610</td>\n",
       "      <td>1</td>\n",
       "      <td>5.0</td>\n",
       "      <td>1479542900</td>\n",
       "    </tr>\n",
       "    <tr>\n",
       "      <th>99552</th>\n",
       "      <td>610</td>\n",
       "      <td>296</td>\n",
       "      <td>5.0</td>\n",
       "      <td>1479545817</td>\n",
       "    </tr>\n",
       "    <tr>\n",
       "      <th>99636</th>\n",
       "      <td>610</td>\n",
       "      <td>1274</td>\n",
       "      <td>5.0</td>\n",
       "      <td>1493846688</td>\n",
       "    </tr>\n",
       "    <tr>\n",
       "      <th>99664</th>\n",
       "      <td>610</td>\n",
       "      <td>1968</td>\n",
       "      <td>4.0</td>\n",
       "      <td>1493850238</td>\n",
       "    </tr>\n",
       "  </tbody>\n",
       "</table>\n",
       "<p>784 rows × 4 columns</p>\n",
       "</div>"
      ],
      "text/plain": [
       "       userId  movieId  rating   timestamp\n",
       "0           1        1     4.0   964982703\n",
       "16          1      296     3.0   964982967\n",
       "320         4      296     1.0   945173350\n",
       "422         4     1968     4.0   986934786\n",
       "516         5        1     4.0   847434962\n",
       "...       ...      ...     ...         ...\n",
       "99510     609      296     4.0   847220802\n",
       "99534     610        1     5.0  1479542900\n",
       "99552     610      296     5.0  1479545817\n",
       "99636     610     1274     5.0  1493846688\n",
       "99664     610     1968     4.0  1493850238\n",
       "\n",
       "[784 rows x 4 columns]"
      ]
     },
     "execution_count": 23,
     "metadata": {},
     "output_type": "execute_result"
    }
   ],
   "source": [
    "#Groupby creates several sub dataframes where they all have the same value in the column specified as the parameter\n",
    "userSubsetGroup = userSubset.groupby(['userId'])\n",
    "userSubsetGroup.head()"
   ]
  },
  {
   "cell_type": "markdown",
   "id": "d5349d3c",
   "metadata": {
    "button": false,
    "new_sheet": false,
    "papermill": {
     "duration": 0.03285,
     "end_time": "2023-07-10T16:28:17.749934",
     "exception": false,
     "start_time": "2023-07-10T16:28:17.717084",
     "status": "completed"
    },
    "run_control": {
     "read_only": false
    },
    "tags": []
   },
   "source": [
    "### Let's look at one of the users, e.g. the one with userID=600.\n"
   ]
  },
  {
   "cell_type": "code",
   "execution_count": 24,
   "id": "137db5db",
   "metadata": {
    "button": false,
    "execution": {
     "iopub.execute_input": "2023-07-10T16:28:17.818489Z",
     "iopub.status.busy": "2023-07-10T16:28:17.817772Z",
     "iopub.status.idle": "2023-07-10T16:28:17.829485Z",
     "shell.execute_reply": "2023-07-10T16:28:17.828688Z"
    },
    "new_sheet": false,
    "papermill": {
     "duration": 0.048085,
     "end_time": "2023-07-10T16:28:17.831503",
     "exception": false,
     "start_time": "2023-07-10T16:28:17.783418",
     "status": "completed"
    },
    "run_control": {
     "read_only": false
    },
    "tags": []
   },
   "outputs": [
    {
     "data": {
      "text/html": [
       "<div>\n",
       "<style scoped>\n",
       "    .dataframe tbody tr th:only-of-type {\n",
       "        vertical-align: middle;\n",
       "    }\n",
       "\n",
       "    .dataframe tbody tr th {\n",
       "        vertical-align: top;\n",
       "    }\n",
       "\n",
       "    .dataframe thead th {\n",
       "        text-align: right;\n",
       "    }\n",
       "</style>\n",
       "<table border=\"1\" class=\"dataframe\">\n",
       "  <thead>\n",
       "    <tr style=\"text-align: right;\">\n",
       "      <th></th>\n",
       "      <th>userId</th>\n",
       "      <th>movieId</th>\n",
       "      <th>rating</th>\n",
       "      <th>timestamp</th>\n",
       "    </tr>\n",
       "  </thead>\n",
       "  <tbody>\n",
       "    <tr>\n",
       "      <th>95101</th>\n",
       "      <td>600</td>\n",
       "      <td>1</td>\n",
       "      <td>2.5</td>\n",
       "      <td>1237764347</td>\n",
       "    </tr>\n",
       "    <tr>\n",
       "      <th>95102</th>\n",
       "      <td>600</td>\n",
       "      <td>2</td>\n",
       "      <td>4.0</td>\n",
       "      <td>1237764627</td>\n",
       "    </tr>\n",
       "    <tr>\n",
       "      <th>95154</th>\n",
       "      <td>600</td>\n",
       "      <td>296</td>\n",
       "      <td>4.5</td>\n",
       "      <td>1237712505</td>\n",
       "    </tr>\n",
       "    <tr>\n",
       "      <th>95306</th>\n",
       "      <td>600</td>\n",
       "      <td>1274</td>\n",
       "      <td>3.5</td>\n",
       "      <td>1237709456</td>\n",
       "    </tr>\n",
       "  </tbody>\n",
       "</table>\n",
       "</div>"
      ],
      "text/plain": [
       "       userId  movieId  rating   timestamp\n",
       "95101     600        1     2.5  1237764347\n",
       "95102     600        2     4.0  1237764627\n",
       "95154     600      296     4.5  1237712505\n",
       "95306     600     1274     3.5  1237709456"
      ]
     },
     "execution_count": 24,
     "metadata": {},
     "output_type": "execute_result"
    }
   ],
   "source": [
    "# Access the subgroup for userID=600\n",
    "userSubsetGroup.get_group(600)"
   ]
  },
  {
   "cell_type": "markdown",
   "id": "3d96f263",
   "metadata": {
    "button": false,
    "new_sheet": false,
    "papermill": {
     "duration": 0.032216,
     "end_time": "2023-07-10T16:28:17.896195",
     "exception": false,
     "start_time": "2023-07-10T16:28:17.863979",
     "status": "completed"
    },
    "run_control": {
     "read_only": false
    },
    "tags": []
   },
   "source": [
    "### Let's also sort these groups so the users that share the most movies in common with the input have higher priority. This provides a richer recommendation since we won't go through every single user.\n"
   ]
  },
  {
   "cell_type": "code",
   "execution_count": 25,
   "id": "2b24e9f8",
   "metadata": {
    "button": false,
    "execution": {
     "iopub.execute_input": "2023-07-10T16:28:17.963467Z",
     "iopub.status.busy": "2023-07-10T16:28:17.962742Z",
     "iopub.status.idle": "2023-07-10T16:28:17.984271Z",
     "shell.execute_reply": "2023-07-10T16:28:17.983196Z"
    },
    "new_sheet": false,
    "papermill": {
     "duration": 0.058075,
     "end_time": "2023-07-10T16:28:17.986618",
     "exception": false,
     "start_time": "2023-07-10T16:28:17.928543",
     "status": "completed"
    },
    "run_control": {
     "read_only": false
    },
    "tags": []
   },
   "outputs": [
    {
     "name": "stderr",
     "output_type": "stream",
     "text": [
      "/tmp/ipykernel_20/1348096693.py:2: FutureWarning: In a future version of pandas, a length 1 tuple will be returned when iterating over a groupby with a grouper equal to a list of length 1. Don't supply a list with a single grouper to avoid this warning.\n",
      "  userSubsetGroup = sorted(userSubsetGroup,  key=lambda x: len(x[1]), reverse=True)\n"
     ]
    }
   ],
   "source": [
    "#Sorting it so users with movie most in common with the input will have priority\n",
    "userSubsetGroup = sorted(userSubsetGroup,  key=lambda x: len(x[1]), reverse=True)"
   ]
  },
  {
   "cell_type": "markdown",
   "id": "5655c56c",
   "metadata": {
    "button": false,
    "new_sheet": false,
    "papermill": {
     "duration": 0.034403,
     "end_time": "2023-07-10T16:28:18.053659",
     "exception": false,
     "start_time": "2023-07-10T16:28:18.019256",
     "status": "completed"
    },
    "run_control": {
     "read_only": false
    },
    "tags": []
   },
   "source": [
    "### Now let's look at the first user.\n"
   ]
  },
  {
   "cell_type": "code",
   "execution_count": 26,
   "id": "d6c5077b",
   "metadata": {
    "button": false,
    "execution": {
     "iopub.execute_input": "2023-07-10T16:28:18.122193Z",
     "iopub.status.busy": "2023-07-10T16:28:18.121045Z",
     "iopub.status.idle": "2023-07-10T16:28:18.135387Z",
     "shell.execute_reply": "2023-07-10T16:28:18.134148Z"
    },
    "new_sheet": false,
    "papermill": {
     "duration": 0.051472,
     "end_time": "2023-07-10T16:28:18.137943",
     "exception": false,
     "start_time": "2023-07-10T16:28:18.086471",
     "status": "completed"
    },
    "run_control": {
     "read_only": false
    },
    "tags": []
   },
   "outputs": [
    {
     "data": {
      "text/plain": [
       "[(91,\n",
       "         userId  movieId  rating   timestamp\n",
       "  14121      91        1     4.0  1112713037\n",
       "  14122      91        2     3.0  1112713392\n",
       "  14173      91      296     4.5  1112711264\n",
       "  14316      91     1274     5.0  1112713057\n",
       "  14383      91     1968     3.0  1112713409),\n",
       " (177,\n",
       "         userId  movieId  rating   timestamp\n",
       "  24900     177        1     5.0  1435533535\n",
       "  24901     177        2     3.5  1435534109\n",
       "  24930     177      296     5.0  1435530409\n",
       "  25069     177     1274     2.0  1435535036\n",
       "  25129     177     1968     3.5  1435534080),\n",
       " (219,\n",
       "         userId  movieId  rating   timestamp\n",
       "  31524     219        1     3.5  1194681084\n",
       "  31525     219        2     2.5  1194740185\n",
       "  31554     219      296     4.0  1198522553\n",
       "  31628     219     1274     2.5  1194686351\n",
       "  31680     219     1968     3.0  1194931899)]"
      ]
     },
     "execution_count": 26,
     "metadata": {},
     "output_type": "execute_result"
    }
   ],
   "source": [
    "userSubsetGroup[0:3]"
   ]
  },
  {
   "cell_type": "markdown",
   "id": "f6c890a6",
   "metadata": {
    "button": false,
    "new_sheet": false,
    "papermill": {
     "duration": 0.033424,
     "end_time": "2023-07-10T16:28:18.204511",
     "exception": false,
     "start_time": "2023-07-10T16:28:18.171087",
     "status": "completed"
    },
    "run_control": {
     "read_only": false
    },
    "tags": []
   },
   "source": [
    "# Similarity of users to input user\n",
    "### Next, we are going to compare all users (not really all !!!) to our specified user and find the one that is most similar.  \n",
    "### We're going to find out how similar each user is to the input through the __Pearson Correlation Coefficient__. It is used to measure the strength of a linear association between the two variables. The formula for finding this coefficient between sets X and Y with N values can be seen in the image below. \n",
    "\n",
    "## **Why Pearson Correlation?**\n",
    "\n",
    "### Pearson correlation is invariant to scaling, i.e. multiplying all elements by a nonzero constant or adding any constant to all elements. For example, if you have two vectors X and Y, then, pearson(X, Y) == pearson(X, 2 * Y + 3). This is a pretty important property in recommendation systems because, for example, two users might rate two series of items totally differently in terms of absolute rates, but they would be similar users (i.e. with similar ideas) with similar rates in various scales .\n",
    "\n",
    "![alt text](https://wikimedia.org/api/rest_v1/media/math/render/svg/bd1ccc2979b0fd1c1aec96e386f686ae874f9ec0 \"Pearson Correlation\")\n",
    "\n",
    "### The values given by the formula vary from r = -1 to r = 1, where 1 forms a direct correlation between the two entities (it means a perfect positive correlation) and -1 forms a perfect negative correlation. \n",
    "\n",
    "### In our case, a 1 means that the two users have similar tastes while a -1 means the opposite.\n"
   ]
  },
  {
   "cell_type": "markdown",
   "id": "1f39071a",
   "metadata": {
    "button": false,
    "new_sheet": false,
    "papermill": {
     "duration": 0.032856,
     "end_time": "2023-07-10T16:28:18.271081",
     "exception": false,
     "start_time": "2023-07-10T16:28:18.238225",
     "status": "completed"
    },
    "run_control": {
     "read_only": false
    },
    "tags": []
   },
   "source": [
    "### We will select a subset of users to iterate through. This limit is imposed because we don't want to waste too much time going through every single user.\n"
   ]
  },
  {
   "cell_type": "code",
   "execution_count": 27,
   "id": "b5bebefe",
   "metadata": {
    "button": false,
    "execution": {
     "iopub.execute_input": "2023-07-10T16:28:18.340652Z",
     "iopub.status.busy": "2023-07-10T16:28:18.339905Z",
     "iopub.status.idle": "2023-07-10T16:28:18.345047Z",
     "shell.execute_reply": "2023-07-10T16:28:18.344230Z"
    },
    "new_sheet": false,
    "papermill": {
     "duration": 0.042365,
     "end_time": "2023-07-10T16:28:18.347105",
     "exception": false,
     "start_time": "2023-07-10T16:28:18.304740",
     "status": "completed"
    },
    "run_control": {
     "read_only": false
    },
    "tags": []
   },
   "outputs": [],
   "source": [
    "userSubsetGroup = userSubsetGroup[0:100]"
   ]
  },
  {
   "cell_type": "markdown",
   "id": "9aa498c8",
   "metadata": {
    "button": false,
    "new_sheet": false,
    "papermill": {
     "duration": 0.033009,
     "end_time": "2023-07-10T16:28:18.415200",
     "exception": false,
     "start_time": "2023-07-10T16:28:18.382191",
     "status": "completed"
    },
    "run_control": {
     "read_only": false
    },
    "tags": []
   },
   "source": [
    "### Now, we calculate the Pearson Correlation between input user and subset group, and store it in a dictionary, where the key is the user Id and the value is the coefficient.\n"
   ]
  },
  {
   "cell_type": "code",
   "execution_count": 28,
   "id": "9423fa49",
   "metadata": {
    "button": false,
    "execution": {
     "iopub.execute_input": "2023-07-10T16:28:18.484505Z",
     "iopub.status.busy": "2023-07-10T16:28:18.483394Z",
     "iopub.status.idle": "2023-07-10T16:28:18.604073Z",
     "shell.execute_reply": "2023-07-10T16:28:18.602858Z"
    },
    "new_sheet": false,
    "papermill": {
     "duration": 0.158367,
     "end_time": "2023-07-10T16:28:18.606817",
     "exception": false,
     "start_time": "2023-07-10T16:28:18.448450",
     "status": "completed"
    },
    "run_control": {
     "read_only": false
    },
    "scrolled": true,
    "tags": []
   },
   "outputs": [],
   "source": [
    "#Store the Pearson Correlation in a dictionary, where the key is the user Id and the value is the coefficient\n",
    "pearsonCorrelationDict = {}\n",
    "\n",
    "#For every user group in our subset\n",
    "for name, group in userSubsetGroup:\n",
    "    #Let's start by sorting the input and current user group so the values aren't mixed up later on\n",
    "    group = group.sort_values(by='movieId')\n",
    "    inputMovies = inputMovies.sort_values(by='movieId')\n",
    "    #Get the N for the formula\n",
    "    nRatings = len(group)\n",
    "    #Get the review scores for the movies that they both have in common\n",
    "    temp_df = inputMovies[inputMovies['movieId'].isin(group['movieId'].tolist())]\n",
    "    #And then store them in a temporary buffer variable in a list format to facilitate future calculations\n",
    "    tempRatingList = temp_df['rating'].tolist()\n",
    "    #Let's also put the current user group reviews in a list format\n",
    "    tempGroupList = group['rating'].tolist()\n",
    "    #Now let's calculate the pearson correlation between two users, so called, x and y\n",
    "    Sxx = sum([i**2 for i in tempRatingList]) - pow(sum(tempRatingList),2)/float(nRatings)\n",
    "    Syy = sum([i**2 for i in tempGroupList]) - pow(sum(tempGroupList),2)/float(nRatings)\n",
    "    Sxy = sum( i*j for i, j in zip(tempRatingList, tempGroupList)) - sum(tempRatingList)*sum(tempGroupList)/float(nRatings)\n",
    "    \n",
    "    #If the denominator is different than zero, then divide, else, 0 correlation.\n",
    "    if Sxx != 0 and Syy != 0:\n",
    "        pearsonCorrelationDict[name] = Sxy/sqrt(Sxx*Syy)\n",
    "    else:\n",
    "        pearsonCorrelationDict[name] = 0\n"
   ]
  },
  {
   "cell_type": "code",
   "execution_count": 29,
   "id": "3cf6248f",
   "metadata": {
    "execution": {
     "iopub.execute_input": "2023-07-10T16:28:18.675691Z",
     "iopub.status.busy": "2023-07-10T16:28:18.675266Z",
     "iopub.status.idle": "2023-07-10T16:28:18.682502Z",
     "shell.execute_reply": "2023-07-10T16:28:18.681145Z"
    },
    "papermill": {
     "duration": 0.044697,
     "end_time": "2023-07-10T16:28:18.684677",
     "exception": false,
     "start_time": "2023-07-10T16:28:18.639980",
     "status": "completed"
    },
    "tags": []
   },
   "outputs": [
    {
     "data": {
      "text/plain": [
       "dict_items([(91, 0.43852900965351443), (177, 0.0), (219, 0.45124262819713973), (274, 0.716114874039432), (298, 0.9592712306918567), (414, 0.9376144618769914), (474, 0.11720180773462392), (477, 0.4385290096535153), (480, 0.7844645405527362), (483, 0.08006407690254357), (599, 0.7666866491579839), (608, 0.920736884379251), (50, 0.15713484026367722), (57, -0.7385489458759964), (68, 0.0), (103, 0.5222329678670935), (135, 0.8703882797784892), (182, 0.9428090415820635), (202, 0.5222329678670935), (217, 0.30151134457776363), (226, 0.9438798074485389), (288, 0.6005325641789633), (307, 0.9655810287305759), (318, 0.44486512077567225), (322, 0.5057805388588731), (330, 0.9035942578600878), (357, 0.5606119105813882), (434, 0.9864036607532465), (448, 0.30151134457776363), (469, 0.8164965809277261), (561, 0.5222329678670935), (600, 0.18442777839082938), (606, 0.9146591207600472), (610, -0.47140452079103173), (18, 1.0), (19, -0.5), (21, 0), (45, 0.5000000000000009), (63, -0.4999999999999982), (64, 0.0), (66, 0.5000000000000009), (107, -1.0), (122, 0.8660254037844387), (132, 1.0000000000000004), (140, 0.5), (141, 0), (144, 1.0), (153, 0.8660254037844379), (156, 0.1889822365046138), (160, 0.8660254037844402), (166, -0.6546536707079772), (198, 0.0), (200, 0.7559289460184552), (201, 0), (232, 0.6546536707079778), (240, -0.8660254037844386), (249, 0), (266, 0.5), (275, -0.4999999999999982), (282, -1.000000000000007), (292, -1.0000000000000018), (294, 0.5000000000000009), (304, 0.8660254037844356), (305, 1.0), (313, -0.4999999999999929), (323, 0.0), (328, -0.5000000000000002), (353, 0.8660254037844356), (359, 0.8660254037844448), (372, 0.142857142857144), (373, 0.866025403784439), (380, 0), (381, 0.6546536707079778), (387, -0.18898223650461649), (391, 0.8660254037844387), (411, 0.8660254037844356), (425, 0.8660254037844387), (432, -0.8660254037844386), (462, 0.8029550685469661), (470, 0.0), (476, -0.8660254037844402), (484, 0.7205766921228925), (489, 1.0), (500, 0), (504, 0), (514, 0), (525, 1.0), (555, 0.5000000000000009), (559, -0.5), (560, 0.9819805060619666), (562, 0.9999999999999858), (570, 0.8660254037844448), (573, 0.8660254037844264), (590, 0.9607689228305233), (603, 0.052414241836095235), (604, 0.0), (605, -0.7205766921228919), (607, 0.0), (1, -1.0), (4, 0)])"
      ]
     },
     "execution_count": 29,
     "metadata": {},
     "output_type": "execute_result"
    }
   ],
   "source": [
    "pearsonCorrelationDict.items()"
   ]
  },
  {
   "cell_type": "code",
   "execution_count": 30,
   "id": "bbde24e9",
   "metadata": {
    "execution": {
     "iopub.execute_input": "2023-07-10T16:28:18.753577Z",
     "iopub.status.busy": "2023-07-10T16:28:18.753144Z",
     "iopub.status.idle": "2023-07-10T16:28:18.766161Z",
     "shell.execute_reply": "2023-07-10T16:28:18.765088Z"
    },
    "papermill": {
     "duration": 0.050145,
     "end_time": "2023-07-10T16:28:18.768374",
     "exception": false,
     "start_time": "2023-07-10T16:28:18.718229",
     "status": "completed"
    },
    "tags": []
   },
   "outputs": [
    {
     "data": {
      "text/html": [
       "<div>\n",
       "<style scoped>\n",
       "    .dataframe tbody tr th:only-of-type {\n",
       "        vertical-align: middle;\n",
       "    }\n",
       "\n",
       "    .dataframe tbody tr th {\n",
       "        vertical-align: top;\n",
       "    }\n",
       "\n",
       "    .dataframe thead th {\n",
       "        text-align: right;\n",
       "    }\n",
       "</style>\n",
       "<table border=\"1\" class=\"dataframe\">\n",
       "  <thead>\n",
       "    <tr style=\"text-align: right;\">\n",
       "      <th></th>\n",
       "      <th>similarityIndex</th>\n",
       "      <th>userId</th>\n",
       "    </tr>\n",
       "  </thead>\n",
       "  <tbody>\n",
       "    <tr>\n",
       "      <th>0</th>\n",
       "      <td>0.438529</td>\n",
       "      <td>91</td>\n",
       "    </tr>\n",
       "    <tr>\n",
       "      <th>1</th>\n",
       "      <td>0.000000</td>\n",
       "      <td>177</td>\n",
       "    </tr>\n",
       "    <tr>\n",
       "      <th>2</th>\n",
       "      <td>0.451243</td>\n",
       "      <td>219</td>\n",
       "    </tr>\n",
       "    <tr>\n",
       "      <th>3</th>\n",
       "      <td>0.716115</td>\n",
       "      <td>274</td>\n",
       "    </tr>\n",
       "    <tr>\n",
       "      <th>4</th>\n",
       "      <td>0.959271</td>\n",
       "      <td>298</td>\n",
       "    </tr>\n",
       "  </tbody>\n",
       "</table>\n",
       "</div>"
      ],
      "text/plain": [
       "   similarityIndex  userId\n",
       "0         0.438529      91\n",
       "1         0.000000     177\n",
       "2         0.451243     219\n",
       "3         0.716115     274\n",
       "4         0.959271     298"
      ]
     },
     "execution_count": 30,
     "metadata": {},
     "output_type": "execute_result"
    }
   ],
   "source": [
    "pearsonDF = pd.DataFrame.from_dict(pearsonCorrelationDict, orient='index')\n",
    "pearsonDF.columns = ['similarityIndex']\n",
    "pearsonDF['userId'] = pearsonDF.index\n",
    "pearsonDF.index = range(len(pearsonDF))\n",
    "pearsonDF.head()"
   ]
  },
  {
   "cell_type": "markdown",
   "id": "d71be938",
   "metadata": {
    "button": false,
    "new_sheet": false,
    "papermill": {
     "duration": 0.033321,
     "end_time": "2023-07-10T16:28:18.834883",
     "exception": false,
     "start_time": "2023-07-10T16:28:18.801562",
     "status": "completed"
    },
    "run_control": {
     "read_only": false
    },
    "tags": []
   },
   "source": [
    "# The top x similar users to input user\n",
    "### Now let's get the top 50 users that are most similar to the input.\n"
   ]
  },
  {
   "cell_type": "code",
   "execution_count": 31,
   "id": "f7057206",
   "metadata": {
    "button": false,
    "execution": {
     "iopub.execute_input": "2023-07-10T16:28:18.904483Z",
     "iopub.status.busy": "2023-07-10T16:28:18.903697Z",
     "iopub.status.idle": "2023-07-10T16:28:18.916783Z",
     "shell.execute_reply": "2023-07-10T16:28:18.915529Z"
    },
    "new_sheet": false,
    "papermill": {
     "duration": 0.050349,
     "end_time": "2023-07-10T16:28:18.919092",
     "exception": false,
     "start_time": "2023-07-10T16:28:18.868743",
     "status": "completed"
    },
    "run_control": {
     "read_only": false
    },
    "tags": []
   },
   "outputs": [
    {
     "data": {
      "text/html": [
       "<div>\n",
       "<style scoped>\n",
       "    .dataframe tbody tr th:only-of-type {\n",
       "        vertical-align: middle;\n",
       "    }\n",
       "\n",
       "    .dataframe tbody tr th {\n",
       "        vertical-align: top;\n",
       "    }\n",
       "\n",
       "    .dataframe thead th {\n",
       "        text-align: right;\n",
       "    }\n",
       "</style>\n",
       "<table border=\"1\" class=\"dataframe\">\n",
       "  <thead>\n",
       "    <tr style=\"text-align: right;\">\n",
       "      <th></th>\n",
       "      <th>similarityIndex</th>\n",
       "      <th>userId</th>\n",
       "    </tr>\n",
       "  </thead>\n",
       "  <tbody>\n",
       "    <tr>\n",
       "      <th>43</th>\n",
       "      <td>1.0</td>\n",
       "      <td>132</td>\n",
       "    </tr>\n",
       "    <tr>\n",
       "      <th>34</th>\n",
       "      <td>1.0</td>\n",
       "      <td>18</td>\n",
       "    </tr>\n",
       "    <tr>\n",
       "      <th>63</th>\n",
       "      <td>1.0</td>\n",
       "      <td>305</td>\n",
       "    </tr>\n",
       "    <tr>\n",
       "      <th>82</th>\n",
       "      <td>1.0</td>\n",
       "      <td>489</td>\n",
       "    </tr>\n",
       "    <tr>\n",
       "      <th>86</th>\n",
       "      <td>1.0</td>\n",
       "      <td>525</td>\n",
       "    </tr>\n",
       "  </tbody>\n",
       "</table>\n",
       "</div>"
      ],
      "text/plain": [
       "    similarityIndex  userId\n",
       "43              1.0     132\n",
       "34              1.0      18\n",
       "63              1.0     305\n",
       "82              1.0     489\n",
       "86              1.0     525"
      ]
     },
     "execution_count": 31,
     "metadata": {},
     "output_type": "execute_result"
    }
   ],
   "source": [
    "topUsers=pearsonDF.sort_values(by='similarityIndex', ascending=False)[0:50]\n",
    "topUsers.head()"
   ]
  },
  {
   "cell_type": "markdown",
   "id": "e62a0797",
   "metadata": {
    "button": false,
    "new_sheet": false,
    "papermill": {
     "duration": 0.033348,
     "end_time": "2023-07-10T16:28:18.986068",
     "exception": false,
     "start_time": "2023-07-10T16:28:18.952720",
     "status": "completed"
    },
    "run_control": {
     "read_only": false
    },
    "tags": []
   },
   "source": [
    "### Now, let's start recommending movies to the input user.\n",
    "\n",
    "# Rating of selected users to all movies\n",
    "### We're going to do this by taking the weighted average of the ratings of the movies using the Pearson Correlation as the weight. But to do this, we first need to get the movies watched by the users in our __pearsonDF__ from the ratings dataframe and then store their correlation in a new column called _similarityIndex\". This is achieved below by merging of these two tables.\n"
   ]
  },
  {
   "cell_type": "code",
   "execution_count": 32,
   "id": "fa7acd68",
   "metadata": {
    "button": false,
    "execution": {
     "iopub.execute_input": "2023-07-10T16:28:19.055820Z",
     "iopub.status.busy": "2023-07-10T16:28:19.055410Z",
     "iopub.status.idle": "2023-07-10T16:28:19.081732Z",
     "shell.execute_reply": "2023-07-10T16:28:19.080612Z"
    },
    "new_sheet": false,
    "papermill": {
     "duration": 0.06416,
     "end_time": "2023-07-10T16:28:19.084250",
     "exception": false,
     "start_time": "2023-07-10T16:28:19.020090",
     "status": "completed"
    },
    "run_control": {
     "read_only": false
    },
    "scrolled": true,
    "tags": []
   },
   "outputs": [
    {
     "data": {
      "text/html": [
       "<div>\n",
       "<style scoped>\n",
       "    .dataframe tbody tr th:only-of-type {\n",
       "        vertical-align: middle;\n",
       "    }\n",
       "\n",
       "    .dataframe tbody tr th {\n",
       "        vertical-align: top;\n",
       "    }\n",
       "\n",
       "    .dataframe thead th {\n",
       "        text-align: right;\n",
       "    }\n",
       "</style>\n",
       "<table border=\"1\" class=\"dataframe\">\n",
       "  <thead>\n",
       "    <tr style=\"text-align: right;\">\n",
       "      <th></th>\n",
       "      <th>similarityIndex</th>\n",
       "      <th>userId</th>\n",
       "      <th>movieId</th>\n",
       "      <th>rating</th>\n",
       "      <th>timestamp</th>\n",
       "    </tr>\n",
       "  </thead>\n",
       "  <tbody>\n",
       "    <tr>\n",
       "      <th>0</th>\n",
       "      <td>1.0</td>\n",
       "      <td>132</td>\n",
       "      <td>1</td>\n",
       "      <td>2.0</td>\n",
       "      <td>1157921785</td>\n",
       "    </tr>\n",
       "    <tr>\n",
       "      <th>1</th>\n",
       "      <td>1.0</td>\n",
       "      <td>132</td>\n",
       "      <td>17</td>\n",
       "      <td>3.0</td>\n",
       "      <td>1157922698</td>\n",
       "    </tr>\n",
       "    <tr>\n",
       "      <th>2</th>\n",
       "      <td>1.0</td>\n",
       "      <td>132</td>\n",
       "      <td>29</td>\n",
       "      <td>2.0</td>\n",
       "      <td>1157924165</td>\n",
       "    </tr>\n",
       "    <tr>\n",
       "      <th>3</th>\n",
       "      <td>1.0</td>\n",
       "      <td>132</td>\n",
       "      <td>32</td>\n",
       "      <td>3.0</td>\n",
       "      <td>1329983726</td>\n",
       "    </tr>\n",
       "    <tr>\n",
       "      <th>4</th>\n",
       "      <td>1.0</td>\n",
       "      <td>132</td>\n",
       "      <td>34</td>\n",
       "      <td>1.5</td>\n",
       "      <td>1157921395</td>\n",
       "    </tr>\n",
       "  </tbody>\n",
       "</table>\n",
       "</div>"
      ],
      "text/plain": [
       "   similarityIndex  userId  movieId  rating   timestamp\n",
       "0              1.0     132        1     2.0  1157921785\n",
       "1              1.0     132       17     3.0  1157922698\n",
       "2              1.0     132       29     2.0  1157924165\n",
       "3              1.0     132       32     3.0  1329983726\n",
       "4              1.0     132       34     1.5  1157921395"
      ]
     },
     "execution_count": 32,
     "metadata": {},
     "output_type": "execute_result"
    }
   ],
   "source": [
    "topUsersRating=topUsers.merge(ratings_df, left_on='userId', right_on='userId', how='inner')\n",
    "topUsersRating.head()"
   ]
  },
  {
   "cell_type": "markdown",
   "id": "62977fa5",
   "metadata": {
    "button": false,
    "new_sheet": false,
    "papermill": {
     "duration": 0.033491,
     "end_time": "2023-07-10T16:28:19.151663",
     "exception": false,
     "start_time": "2023-07-10T16:28:19.118172",
     "status": "completed"
    },
    "run_control": {
     "read_only": false
    },
    "tags": []
   },
   "source": [
    "### Now all we need to do is simply multiply the movie rating by its weight (the similarity index), then sum up the new ratings and divide it by the sum of the weights.\n",
    "\n",
    "### We can easily do this by simply multiplying two columns, then grouping up the dataframe by movieId and then dividing two columns:\n",
    "\n",
    "### It shows the idea of all similar users to candidate movies for the input user:\n"
   ]
  },
  {
   "cell_type": "code",
   "execution_count": 33,
   "id": "41a05378",
   "metadata": {
    "button": false,
    "execution": {
     "iopub.execute_input": "2023-07-10T16:28:19.222456Z",
     "iopub.status.busy": "2023-07-10T16:28:19.221771Z",
     "iopub.status.idle": "2023-07-10T16:28:19.237735Z",
     "shell.execute_reply": "2023-07-10T16:28:19.236593Z"
    },
    "new_sheet": false,
    "papermill": {
     "duration": 0.05394,
     "end_time": "2023-07-10T16:28:19.239940",
     "exception": false,
     "start_time": "2023-07-10T16:28:19.186000",
     "status": "completed"
    },
    "run_control": {
     "read_only": false
    },
    "tags": []
   },
   "outputs": [
    {
     "data": {
      "text/html": [
       "<div>\n",
       "<style scoped>\n",
       "    .dataframe tbody tr th:only-of-type {\n",
       "        vertical-align: middle;\n",
       "    }\n",
       "\n",
       "    .dataframe tbody tr th {\n",
       "        vertical-align: top;\n",
       "    }\n",
       "\n",
       "    .dataframe thead th {\n",
       "        text-align: right;\n",
       "    }\n",
       "</style>\n",
       "<table border=\"1\" class=\"dataframe\">\n",
       "  <thead>\n",
       "    <tr style=\"text-align: right;\">\n",
       "      <th></th>\n",
       "      <th>similarityIndex</th>\n",
       "      <th>userId</th>\n",
       "      <th>movieId</th>\n",
       "      <th>rating</th>\n",
       "      <th>timestamp</th>\n",
       "      <th>weightedRating</th>\n",
       "    </tr>\n",
       "  </thead>\n",
       "  <tbody>\n",
       "    <tr>\n",
       "      <th>0</th>\n",
       "      <td>1.0</td>\n",
       "      <td>132</td>\n",
       "      <td>1</td>\n",
       "      <td>2.0</td>\n",
       "      <td>1157921785</td>\n",
       "      <td>2.0</td>\n",
       "    </tr>\n",
       "    <tr>\n",
       "      <th>1</th>\n",
       "      <td>1.0</td>\n",
       "      <td>132</td>\n",
       "      <td>17</td>\n",
       "      <td>3.0</td>\n",
       "      <td>1157922698</td>\n",
       "      <td>3.0</td>\n",
       "    </tr>\n",
       "    <tr>\n",
       "      <th>2</th>\n",
       "      <td>1.0</td>\n",
       "      <td>132</td>\n",
       "      <td>29</td>\n",
       "      <td>2.0</td>\n",
       "      <td>1157924165</td>\n",
       "      <td>2.0</td>\n",
       "    </tr>\n",
       "    <tr>\n",
       "      <th>3</th>\n",
       "      <td>1.0</td>\n",
       "      <td>132</td>\n",
       "      <td>32</td>\n",
       "      <td>3.0</td>\n",
       "      <td>1329983726</td>\n",
       "      <td>3.0</td>\n",
       "    </tr>\n",
       "    <tr>\n",
       "      <th>4</th>\n",
       "      <td>1.0</td>\n",
       "      <td>132</td>\n",
       "      <td>34</td>\n",
       "      <td>1.5</td>\n",
       "      <td>1157921395</td>\n",
       "      <td>1.5</td>\n",
       "    </tr>\n",
       "  </tbody>\n",
       "</table>\n",
       "</div>"
      ],
      "text/plain": [
       "   similarityIndex  userId  movieId  rating   timestamp  weightedRating\n",
       "0              1.0     132        1     2.0  1157921785             2.0\n",
       "1              1.0     132       17     3.0  1157922698             3.0\n",
       "2              1.0     132       29     2.0  1157924165             2.0\n",
       "3              1.0     132       32     3.0  1329983726             3.0\n",
       "4              1.0     132       34     1.5  1157921395             1.5"
      ]
     },
     "execution_count": 33,
     "metadata": {},
     "output_type": "execute_result"
    }
   ],
   "source": [
    "#Multiplies the similarity by the user's ratings\n",
    "topUsersRating['weightedRating'] = topUsersRating['similarityIndex']*topUsersRating['rating']\n",
    "topUsersRating.head()"
   ]
  },
  {
   "cell_type": "code",
   "execution_count": 34,
   "id": "93dc8200",
   "metadata": {
    "button": false,
    "execution": {
     "iopub.execute_input": "2023-07-10T16:28:19.311135Z",
     "iopub.status.busy": "2023-07-10T16:28:19.310490Z",
     "iopub.status.idle": "2023-07-10T16:28:19.329419Z",
     "shell.execute_reply": "2023-07-10T16:28:19.328182Z"
    },
    "new_sheet": false,
    "papermill": {
     "duration": 0.05786,
     "end_time": "2023-07-10T16:28:19.331811",
     "exception": false,
     "start_time": "2023-07-10T16:28:19.273951",
     "status": "completed"
    },
    "run_control": {
     "read_only": false
    },
    "tags": []
   },
   "outputs": [
    {
     "data": {
      "text/html": [
       "<div>\n",
       "<style scoped>\n",
       "    .dataframe tbody tr th:only-of-type {\n",
       "        vertical-align: middle;\n",
       "    }\n",
       "\n",
       "    .dataframe tbody tr th {\n",
       "        vertical-align: top;\n",
       "    }\n",
       "\n",
       "    .dataframe thead th {\n",
       "        text-align: right;\n",
       "    }\n",
       "</style>\n",
       "<table border=\"1\" class=\"dataframe\">\n",
       "  <thead>\n",
       "    <tr style=\"text-align: right;\">\n",
       "      <th></th>\n",
       "      <th>sum_similarityIndex</th>\n",
       "      <th>sum_weightedRating</th>\n",
       "    </tr>\n",
       "    <tr>\n",
       "      <th>movieId</th>\n",
       "      <th></th>\n",
       "      <th></th>\n",
       "    </tr>\n",
       "  </thead>\n",
       "  <tbody>\n",
       "    <tr>\n",
       "      <th>1</th>\n",
       "      <td>36.354096</td>\n",
       "      <td>133.167946</td>\n",
       "    </tr>\n",
       "    <tr>\n",
       "      <th>2</th>\n",
       "      <td>31.005292</td>\n",
       "      <td>94.904257</td>\n",
       "    </tr>\n",
       "    <tr>\n",
       "      <th>3</th>\n",
       "      <td>8.783859</td>\n",
       "      <td>26.381456</td>\n",
       "    </tr>\n",
       "    <tr>\n",
       "      <th>4</th>\n",
       "      <td>0.866025</td>\n",
       "      <td>1.732051</td>\n",
       "    </tr>\n",
       "    <tr>\n",
       "      <th>5</th>\n",
       "      <td>7.165336</td>\n",
       "      <td>19.775255</td>\n",
       "    </tr>\n",
       "  </tbody>\n",
       "</table>\n",
       "</div>"
      ],
      "text/plain": [
       "         sum_similarityIndex  sum_weightedRating\n",
       "movieId                                         \n",
       "1                  36.354096          133.167946\n",
       "2                  31.005292           94.904257\n",
       "3                   8.783859           26.381456\n",
       "4                   0.866025            1.732051\n",
       "5                   7.165336           19.775255"
      ]
     },
     "execution_count": 34,
     "metadata": {},
     "output_type": "execute_result"
    }
   ],
   "source": [
    "#Applies a sum to the topUsers after grouping it up by userId\n",
    "tempTopUsersRating = topUsersRating.groupby('movieId').sum()[['similarityIndex','weightedRating']]\n",
    "tempTopUsersRating.columns = ['sum_similarityIndex','sum_weightedRating']\n",
    "tempTopUsersRating.head()"
   ]
  },
  {
   "cell_type": "code",
   "execution_count": 35,
   "id": "20a1eba0",
   "metadata": {
    "button": false,
    "execution": {
     "iopub.execute_input": "2023-07-10T16:28:19.402480Z",
     "iopub.status.busy": "2023-07-10T16:28:19.401900Z",
     "iopub.status.idle": "2023-07-10T16:28:19.417298Z",
     "shell.execute_reply": "2023-07-10T16:28:19.416102Z"
    },
    "new_sheet": false,
    "papermill": {
     "duration": 0.053365,
     "end_time": "2023-07-10T16:28:19.419439",
     "exception": false,
     "start_time": "2023-07-10T16:28:19.366074",
     "status": "completed"
    },
    "run_control": {
     "read_only": false
    },
    "tags": []
   },
   "outputs": [
    {
     "data": {
      "text/html": [
       "<div>\n",
       "<style scoped>\n",
       "    .dataframe tbody tr th:only-of-type {\n",
       "        vertical-align: middle;\n",
       "    }\n",
       "\n",
       "    .dataframe tbody tr th {\n",
       "        vertical-align: top;\n",
       "    }\n",
       "\n",
       "    .dataframe thead th {\n",
       "        text-align: right;\n",
       "    }\n",
       "</style>\n",
       "<table border=\"1\" class=\"dataframe\">\n",
       "  <thead>\n",
       "    <tr style=\"text-align: right;\">\n",
       "      <th></th>\n",
       "      <th>weighted average recommendation score</th>\n",
       "      <th>movieId</th>\n",
       "    </tr>\n",
       "    <tr>\n",
       "      <th>movieId</th>\n",
       "      <th></th>\n",
       "      <th></th>\n",
       "    </tr>\n",
       "  </thead>\n",
       "  <tbody>\n",
       "    <tr>\n",
       "      <th>1</th>\n",
       "      <td>3.663080</td>\n",
       "      <td>1</td>\n",
       "    </tr>\n",
       "    <tr>\n",
       "      <th>2</th>\n",
       "      <td>3.060905</td>\n",
       "      <td>2</td>\n",
       "    </tr>\n",
       "    <tr>\n",
       "      <th>3</th>\n",
       "      <td>3.003402</td>\n",
       "      <td>3</td>\n",
       "    </tr>\n",
       "    <tr>\n",
       "      <th>4</th>\n",
       "      <td>2.000000</td>\n",
       "      <td>4</td>\n",
       "    </tr>\n",
       "    <tr>\n",
       "      <th>5</th>\n",
       "      <td>2.759850</td>\n",
       "      <td>5</td>\n",
       "    </tr>\n",
       "  </tbody>\n",
       "</table>\n",
       "</div>"
      ],
      "text/plain": [
       "         weighted average recommendation score  movieId\n",
       "movieId                                                \n",
       "1                                     3.663080        1\n",
       "2                                     3.060905        2\n",
       "3                                     3.003402        3\n",
       "4                                     2.000000        4\n",
       "5                                     2.759850        5"
      ]
     },
     "execution_count": 35,
     "metadata": {},
     "output_type": "execute_result"
    }
   ],
   "source": [
    "#Creates an empty dataframe\n",
    "recommendation_df = pd.DataFrame()\n",
    "#Now we take the weighted average\n",
    "recommendation_df['weighted average recommendation score'] = tempTopUsersRating['sum_weightedRating']/tempTopUsersRating['sum_similarityIndex']\n",
    "recommendation_df['movieId'] = tempTopUsersRating.index\n",
    "recommendation_df.head()"
   ]
  },
  {
   "cell_type": "markdown",
   "id": "d6c3314d",
   "metadata": {
    "button": false,
    "new_sheet": false,
    "papermill": {
     "duration": 0.035172,
     "end_time": "2023-07-10T16:28:19.489059",
     "exception": false,
     "start_time": "2023-07-10T16:28:19.453887",
     "status": "completed"
    },
    "run_control": {
     "read_only": false
    },
    "tags": []
   },
   "source": [
    "# Now let's sort it and see the top 20 movies that the algorithm recommended!\n"
   ]
  },
  {
   "cell_type": "code",
   "execution_count": 36,
   "id": "a694ef66",
   "metadata": {
    "button": false,
    "execution": {
     "iopub.execute_input": "2023-07-10T16:28:19.561332Z",
     "iopub.status.busy": "2023-07-10T16:28:19.559978Z",
     "iopub.status.idle": "2023-07-10T16:28:19.574449Z",
     "shell.execute_reply": "2023-07-10T16:28:19.573238Z"
    },
    "new_sheet": false,
    "papermill": {
     "duration": 0.053251,
     "end_time": "2023-07-10T16:28:19.577025",
     "exception": false,
     "start_time": "2023-07-10T16:28:19.523774",
     "status": "completed"
    },
    "run_control": {
     "read_only": false
    },
    "tags": []
   },
   "outputs": [
    {
     "data": {
      "text/html": [
       "<div>\n",
       "<style scoped>\n",
       "    .dataframe tbody tr th:only-of-type {\n",
       "        vertical-align: middle;\n",
       "    }\n",
       "\n",
       "    .dataframe tbody tr th {\n",
       "        vertical-align: top;\n",
       "    }\n",
       "\n",
       "    .dataframe thead th {\n",
       "        text-align: right;\n",
       "    }\n",
       "</style>\n",
       "<table border=\"1\" class=\"dataframe\">\n",
       "  <thead>\n",
       "    <tr style=\"text-align: right;\">\n",
       "      <th></th>\n",
       "      <th>weighted average recommendation score</th>\n",
       "      <th>movieId</th>\n",
       "    </tr>\n",
       "    <tr>\n",
       "      <th>movieId</th>\n",
       "      <th></th>\n",
       "      <th></th>\n",
       "    </tr>\n",
       "  </thead>\n",
       "  <tbody>\n",
       "    <tr>\n",
       "      <th>3310</th>\n",
       "      <td>5.0</td>\n",
       "      <td>3310</td>\n",
       "    </tr>\n",
       "    <tr>\n",
       "      <th>7579</th>\n",
       "      <td>5.0</td>\n",
       "      <td>7579</td>\n",
       "    </tr>\n",
       "    <tr>\n",
       "      <th>905</th>\n",
       "      <td>5.0</td>\n",
       "      <td>905</td>\n",
       "    </tr>\n",
       "    <tr>\n",
       "      <th>1211</th>\n",
       "      <td>5.0</td>\n",
       "      <td>1211</td>\n",
       "    </tr>\n",
       "    <tr>\n",
       "      <th>140627</th>\n",
       "      <td>5.0</td>\n",
       "      <td>140627</td>\n",
       "    </tr>\n",
       "    <tr>\n",
       "      <th>4298</th>\n",
       "      <td>5.0</td>\n",
       "      <td>4298</td>\n",
       "    </tr>\n",
       "    <tr>\n",
       "      <th>152711</th>\n",
       "      <td>5.0</td>\n",
       "      <td>152711</td>\n",
       "    </tr>\n",
       "    <tr>\n",
       "      <th>633</th>\n",
       "      <td>5.0</td>\n",
       "      <td>633</td>\n",
       "    </tr>\n",
       "    <tr>\n",
       "      <th>5537</th>\n",
       "      <td>5.0</td>\n",
       "      <td>5537</td>\n",
       "    </tr>\n",
       "    <tr>\n",
       "      <th>5485</th>\n",
       "      <td>5.0</td>\n",
       "      <td>5485</td>\n",
       "    </tr>\n",
       "  </tbody>\n",
       "</table>\n",
       "</div>"
      ],
      "text/plain": [
       "         weighted average recommendation score  movieId\n",
       "movieId                                                \n",
       "3310                                       5.0     3310\n",
       "7579                                       5.0     7579\n",
       "905                                        5.0      905\n",
       "1211                                       5.0     1211\n",
       "140627                                     5.0   140627\n",
       "4298                                       5.0     4298\n",
       "152711                                     5.0   152711\n",
       "633                                        5.0      633\n",
       "5537                                       5.0     5537\n",
       "5485                                       5.0     5485"
      ]
     },
     "execution_count": 36,
     "metadata": {},
     "output_type": "execute_result"
    }
   ],
   "source": [
    "recommendation_df = recommendation_df.sort_values(by='weighted average recommendation score', ascending=False)\n",
    "recommendation_df.head(10)"
   ]
  },
  {
   "cell_type": "code",
   "execution_count": 37,
   "id": "83bb7110",
   "metadata": {
    "button": false,
    "execution": {
     "iopub.execute_input": "2023-07-10T16:28:19.649254Z",
     "iopub.status.busy": "2023-07-10T16:28:19.648825Z",
     "iopub.status.idle": "2023-07-10T16:28:19.662004Z",
     "shell.execute_reply": "2023-07-10T16:28:19.661220Z"
    },
    "new_sheet": false,
    "papermill": {
     "duration": 0.052092,
     "end_time": "2023-07-10T16:28:19.664230",
     "exception": false,
     "start_time": "2023-07-10T16:28:19.612138",
     "status": "completed"
    },
    "run_control": {
     "read_only": false
    },
    "scrolled": true,
    "tags": []
   },
   "outputs": [
    {
     "data": {
      "text/html": [
       "<div>\n",
       "<style scoped>\n",
       "    .dataframe tbody tr th:only-of-type {\n",
       "        vertical-align: middle;\n",
       "    }\n",
       "\n",
       "    .dataframe tbody tr th {\n",
       "        vertical-align: top;\n",
       "    }\n",
       "\n",
       "    .dataframe thead th {\n",
       "        text-align: right;\n",
       "    }\n",
       "</style>\n",
       "<table border=\"1\" class=\"dataframe\">\n",
       "  <thead>\n",
       "    <tr style=\"text-align: right;\">\n",
       "      <th></th>\n",
       "      <th>movieId</th>\n",
       "      <th>title</th>\n",
       "      <th>genres</th>\n",
       "      <th>year</th>\n",
       "    </tr>\n",
       "  </thead>\n",
       "  <tbody>\n",
       "    <tr>\n",
       "      <th>536</th>\n",
       "      <td>633</td>\n",
       "      <td>Denise Calls Up</td>\n",
       "      <td>Comedy</td>\n",
       "      <td>1995</td>\n",
       "    </tr>\n",
       "    <tr>\n",
       "      <th>687</th>\n",
       "      <td>905</td>\n",
       "      <td>It Happened One Night</td>\n",
       "      <td>Comedy|Romance</td>\n",
       "      <td>1934</td>\n",
       "    </tr>\n",
       "    <tr>\n",
       "      <th>912</th>\n",
       "      <td>1211</td>\n",
       "      <td>Wings of Desire (Himmel über Berlin, Der)</td>\n",
       "      <td>Drama|Fantasy|Romance</td>\n",
       "      <td>1987</td>\n",
       "    </tr>\n",
       "    <tr>\n",
       "      <th>2484</th>\n",
       "      <td>3310</td>\n",
       "      <td>Kid, The</td>\n",
       "      <td>Comedy|Drama</td>\n",
       "      <td>1921</td>\n",
       "    </tr>\n",
       "    <tr>\n",
       "      <th>3189</th>\n",
       "      <td>4298</td>\n",
       "      <td>Rififi (Du rififi chez les hommes)</td>\n",
       "      <td>Crime|Film-Noir|Thriller</td>\n",
       "      <td>1955</td>\n",
       "    </tr>\n",
       "    <tr>\n",
       "      <th>3905</th>\n",
       "      <td>5485</td>\n",
       "      <td>Tadpole</td>\n",
       "      <td>Comedy|Drama|Romance</td>\n",
       "      <td>2002</td>\n",
       "    </tr>\n",
       "    <tr>\n",
       "      <th>3936</th>\n",
       "      <td>5537</td>\n",
       "      <td>Satin Rouge</td>\n",
       "      <td>Drama|Musical</td>\n",
       "      <td>2002</td>\n",
       "    </tr>\n",
       "    <tr>\n",
       "      <th>4969</th>\n",
       "      <td>7579</td>\n",
       "      <td>Pride and Prejudice</td>\n",
       "      <td>Comedy|Drama|Romance</td>\n",
       "      <td>1940</td>\n",
       "    </tr>\n",
       "    <tr>\n",
       "      <th>9022</th>\n",
       "      <td>140627</td>\n",
       "      <td>Battle For Sevastopol</td>\n",
       "      <td>Drama|Romance|War</td>\n",
       "      <td>2015</td>\n",
       "    </tr>\n",
       "    <tr>\n",
       "      <th>9234</th>\n",
       "      <td>152711</td>\n",
       "      <td>Who Killed Chea Vichea?</td>\n",
       "      <td>Documentary</td>\n",
       "      <td>2010</td>\n",
       "    </tr>\n",
       "  </tbody>\n",
       "</table>\n",
       "</div>"
      ],
      "text/plain": [
       "      movieId                                      title  \\\n",
       "536       633                            Denise Calls Up   \n",
       "687       905                      It Happened One Night   \n",
       "912      1211  Wings of Desire (Himmel über Berlin, Der)   \n",
       "2484     3310                                   Kid, The   \n",
       "3189     4298         Rififi (Du rififi chez les hommes)   \n",
       "3905     5485                                    Tadpole   \n",
       "3936     5537                                Satin Rouge   \n",
       "4969     7579                        Pride and Prejudice   \n",
       "9022   140627                      Battle For Sevastopol   \n",
       "9234   152711                    Who Killed Chea Vichea?   \n",
       "\n",
       "                        genres  year  \n",
       "536                     Comedy  1995  \n",
       "687             Comedy|Romance  1934  \n",
       "912      Drama|Fantasy|Romance  1987  \n",
       "2484              Comedy|Drama  1921  \n",
       "3189  Crime|Film-Noir|Thriller  1955  \n",
       "3905      Comedy|Drama|Romance  2002  \n",
       "3936             Drama|Musical  2002  \n",
       "4969      Comedy|Drama|Romance  1940  \n",
       "9022         Drama|Romance|War  2015  \n",
       "9234               Documentary  2010  "
      ]
     },
     "execution_count": 37,
     "metadata": {},
     "output_type": "execute_result"
    }
   ],
   "source": [
    "movies_df.loc[movies_df['movieId'].isin(recommendation_df.head(10)['movieId'].tolist())]"
   ]
  },
  {
   "cell_type": "markdown",
   "id": "2b76af13",
   "metadata": {
    "button": false,
    "new_sheet": false,
    "papermill": {
     "duration": 0.034959,
     "end_time": "2023-07-10T16:28:19.734609",
     "exception": false,
     "start_time": "2023-07-10T16:28:19.699650",
     "status": "completed"
    },
    "run_control": {
     "read_only": false
    },
    "tags": []
   },
   "source": [
    "# Advantages and Disadvantages of Collaborative Filtering\n",
    "\n",
    "### Advantages\n",
    "#### * Takes other user's ratings into consideration\n",
    "#### * Doesn't need to study or extract information from the recommended item\n",
    "#### * Adapts to the user's interests which might change over time\n",
    "\n",
    "### Disadvantages\n",
    "#### * Approximation function can be slow\n",
    "#### * There might be a low amount of users to approximate\n",
    "#### * Privacy issues when trying to learn the user's preferences\n"
   ]
  }
 ],
 "metadata": {
  "kernelspec": {
   "display_name": "Python 3",
   "language": "python",
   "name": "python3"
  },
  "language_info": {
   "codemirror_mode": {
    "name": "ipython",
    "version": 3
   },
   "file_extension": ".py",
   "mimetype": "text/x-python",
   "name": "python",
   "nbconvert_exporter": "python",
   "pygments_lexer": "ipython3",
   "version": "3.10.10"
  },
  "papermill": {
   "default_parameters": {},
   "duration": 29.428108,
   "end_time": "2023-07-10T16:28:20.916399",
   "environment_variables": {},
   "exception": null,
   "input_path": "__notebook__.ipynb",
   "output_path": "__notebook__.ipynb",
   "parameters": {},
   "start_time": "2023-07-10T16:27:51.488291",
   "version": "2.4.0"
  }
 },
 "nbformat": 4,
 "nbformat_minor": 5
}
